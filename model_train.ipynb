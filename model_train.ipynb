{
  "cells": [
    {
      "cell_type": "code",
      "execution_count": null,
      "metadata": {
        "colab": {
          "base_uri": "https://localhost:8080/"
        },
        "id": "cYcC8DtOeJ9U",
        "outputId": "c316a324-2ec1-4330-964a-689d45155652"
      },
      "outputs": [],
      "source": [
        "!git clone -b MLOps https://github.com/Gift-py/ai_hackathon/\n"
      ]
    },
    {
      "cell_type": "code",
      "execution_count": null,
      "metadata": {
        "colab": {
          "base_uri": "https://localhost:8080/"
        },
        "id": "EXNj-sxCezG7",
        "outputId": "cc81cd3f-f012-4f16-ef8e-b14bf5fe6a39"
      },
      "outputs": [],
      "source": [
        "%cd ai_hackathon/"
      ]
    },
    {
      "cell_type": "code",
      "execution_count": null,
      "metadata": {
        "id": "0TixHcQMeDjY"
      },
      "outputs": [],
      "source": [
        "import os\n",
        "import pandas as pd\n"
      ]
    },
    {
      "cell_type": "code",
      "execution_count": null,
      "metadata": {
        "id": "Oad2iK0NeDjb"
      },
      "outputs": [],
      "source": [
        "qaps = pd.read_csv('./qaps_html.csv')\n",
        "id_url = pd.read_csv('./id_url_html.csv')"
      ]
    },
    {
      "cell_type": "code",
      "execution_count": null,
      "metadata": {
        "colab": {
          "base_uri": "https://localhost:8080/"
        },
        "id": "J5sauyZ3eDjc",
        "outputId": "0523a58f-3e04-4bba-e164-8339c4bfd694"
      },
      "outputs": [],
      "source": [
        "id_url.iloc[:,3].max()\n"
      ]
    },
    {
      "cell_type": "code",
      "execution_count": null,
      "metadata": {
        "id": "uV0v2-kyeDjd"
      },
      "outputs": [],
      "source": [
        "summaries = pd.read_csv('./summaries_html.csv')\n"
      ]
    },
    {
      "cell_type": "code",
      "execution_count": null,
      "metadata": {
        "colab": {
          "base_uri": "https://localhost:8080/"
        },
        "id": "INlWC7OkfTLk",
        "outputId": "4561f2ae-674a-4a59-cf13-c48ed6fb3f4f"
      },
      "outputs": [],
      "source": [
        "!pip install datasets"
      ]
    },
    {
      "cell_type": "code",
      "execution_count": null,
      "metadata": {
        "id": "qJ5rx5B8eDje"
      },
      "outputs": [],
      "source": [
        "from datasets import Dataset, DatasetDict\n",
        "import os\n",
        "import json\n",
        "import csv\n",
        "import pandas as pd\n",
        "\n",
        "qa_dataset = []\n",
        "for index, row in qaps.iterrows():\n",
        "    context = summaries[summaries['document_id'] == row['document_id']]['summary'].values[0]\n",
        "    question = row['question']\n",
        "    answer = [row['answer1'], row['answer2']]\n",
        "    qa_dataset.append(\n",
        "        {\n",
        "            'context': context,\n",
        "            'question': question,\n",
        "            'answer': answer\n",
        "        }\n",
        "    )"
      ]
    },
    {
      "cell_type": "code",
      "execution_count": null,
      "metadata": {
        "colab": {
          "base_uri": "https://localhost:8080/"
        },
        "id": "ivHvy8SyeDje",
        "outputId": "7615fd23-4dad-4d03-d86c-0abe62c7639a"
      },
      "outputs": [],
      "source": [
        "qa_dataset[1]"
      ]
    },
    {
      "cell_type": "code",
      "execution_count": null,
      "metadata": {
        "id": "T30WQjm_eDjf"
      },
      "outputs": [],
      "source": [
        "train_ratio = 0.8\n",
        "val_ratio = 0.1\n",
        "test_ratio = 0.1\n",
        "\n",
        "n_samples = len(qa_dataset)\n",
        "train_end = int(train_ratio * n_samples)\n",
        "val_end = train_end + int(val_ratio * n_samples)\n",
        "train_data = Dataset.from_list(qa_dataset[:train_end])\n",
        "val_data = Dataset.from_list(qa_dataset[train_end:val_end])\n",
        "test_data = Dataset.from_list(qa_dataset[val_end:])\n"
      ]
    },
    {
      "cell_type": "code",
      "execution_count": null,
      "metadata": {
        "id": "rmYd2g_9eDjf"
      },
      "outputs": [],
      "source": [
        "data_dict = DatasetDict({\n",
        "    'train': train_data,\n",
        "    'validation': val_data,\n",
        "    'test': test_data\n",
        "})"
      ]
    },
    {
      "cell_type": "code",
      "execution_count": null,
      "metadata": {
        "colab": {
          "base_uri": "https://localhost:8080/"
        },
        "id": "iqFaulttfmJc",
        "outputId": "0170084d-1e64-43cb-b6a4-66ea921ba4c9"
      },
      "outputs": [],
      "source": [
        "!pip install transformers sentencepiece\n"
      ]
    },
    {
      "cell_type": "code",
      "execution_count": null,
      "metadata": {
        "colab": {
          "base_uri": "https://localhost:8080/"
        },
        "id": "cpGcTRxQeDjg",
        "outputId": "79ff59c5-1be9-451d-ac0a-87941dccae5b"
      },
      "outputs": [],
      "source": [
        "from transformers import T5Tokenizer\n",
        "import torch\n",
        " \n",
        "\n",
        "tokenizer = T5Tokenizer.from_pretrained('t5-base')\n",
        "\n",
        "def tokenize_example(example):\n",
        "    context, question, answers = example['context'], example['question'], example['answer']   \n",
        "    input_str = f'context: {context} </s>'\n",
        "    answer = ' | '.join(answers)    \n",
        "    target_str = f'question: {question} answer: {answer} </s>'\n",
        "    inputs = tokenizer(input_str, padding='max_length', truncation=True, max_length=512, return_tensors='pt')\n",
        "    target = tokenizer(target_str, padding='max_length', truncation=True, max_length=512, return_tensors='pt')\n",
        "\n",
        "    input_ids = torch.tensor(inputs['input_ids'][0])\n",
        "    attention_mask = torch.tensor(inputs['attention_mask'][0])\n",
        "    target_input_ids = torch.tensor(target['input_ids'][0])\n",
        "    target_attention_mask = torch.tensor(target['attention_mask'][0])\n",
        "    \n",
        "    return {'input_ids': input_ids, 'attention_mask':attention_mask, 'decoder_input_ids':target_input_ids, 'decoder_attention_mask':target_attention_mask}\n",
        "\n",
        "\n",
        "\n",
        "# def tokenized_to_tensor(tokenized_data):\n",
        "#     input_ids = torch.tensor(tokenized_data['input_ids'])\n",
        "#     attention_mask = torch.tensor(tokenized_data['attention_mask'])\n",
        "#     decoder_input_ids = torch.tensor(tokenized_data['target_input_ids'])\n",
        "#     decoder_attention_mask = torch.tensor(tokenized_data['target_attention_mask'])\n",
        "\n",
        "#     dataset = TensorDataset(input_ids, attention_mask, decoder_input_ids, decoder_attention_mask)\n",
        "\n",
        "#     return dataset"
      ]
    },
    {
      "cell_type": "code",
      "execution_count": null,
      "metadata": {
        "colab": {
          "base_uri": "https://localhost:8080/",
          "height": 211,
          "referenced_widgets": [
            "137ffda7485d45429eb789105b0887e2",
            "a635d7e460654f5596409472e2eddb4e",
            "23f4d7546d6745c082352f68a7b4e29a",
            "e618eba596d743a5a39d9ed780bf76ec",
            "63dec751dafa4979a92a2a81d6428688",
            "afec31cb9d404fdfbe1a810a846f9e1e",
            "9aa0859220fd4e749bd634b636723800",
            "0849da4ac20a42e38f0bb4a8818d9045",
            "26761c3155e64fa7945025c8698a61cb",
            "e6ed4d0024f7457fa2d32031261a4291",
            "4b23236697a5464a96a6ccbac4a71470",
            "4ddae80b8890427e8636e1fc09e3963c",
            "47c9e87d36554d1c9b961109e032775f",
            "7472587531c9488988ed044bbb32bfa0",
            "f81366e99c9345719083ec8ad1cd1e49",
            "50f03852f7194325b969788b8ed23079",
            "561ff78504304c2faee5fa462e5da83d",
            "ec022a7dca6240c38c13e0ab38902ee5",
            "725a03373b3f46b486c7f4f52fe1e186",
            "9d71756383b14dd193fc8b1dcc1f9d04",
            "83b57b28598246c3a62d412c48119b32",
            "8a31977be2bf43ad85d3e2044eec368b",
            "241b6db2f6d9439ea67b33b405a04136",
            "d5496374c7df4bb3a92ce4ee70392d3c",
            "01489d4ac31049d19ffdcb928c253992",
            "c1fad5ed6e594e87981275c7947a81b4",
            "e7195419141a4d9ea6480fe81b464a70",
            "4ec640942015455da86739bb21d710a4",
            "6f2b578a44a84f8c8c140ed08109afb0",
            "7f05501592884518960b28d2af958674",
            "727fa95dbf504dd9b941be7ab48e22eb",
            "99716e71454d460e892b3aca92cd0894",
            "b29caca8e71d4a3e8414bf33b9ba1774"
          ]
        },
        "id": "Lc44FU80eDjg",
        "outputId": "8aa6b320-74c3-459e-e8ca-2ed247cf8f7c"
      },
      "outputs": [],
      "source": [
        "tokenized_dataset = data_dict.map(tokenize_example)\n",
        "tokenized_dataset.set_format(type='torch', columns=['input_ids', 'attention_mask', 'decoder_input_ids', 'decoder_attention_mask'])"
      ]
    },
    {
      "cell_type": "code",
      "execution_count": null,
      "metadata": {
        "colab": {
          "base_uri": "https://localhost:8080/"
        },
        "id": "eRxkPMNGvv9V",
        "outputId": "bff5af39-95e0-4bd9-a2eb-d82f66632c74"
      },
      "outputs": [],
      "source": [
        "len(tokenized_dataset['train'][0]['input_ids'])"
      ]
    },
    {
      "cell_type": "code",
      "execution_count": null,
      "metadata": {
        "id": "DkefcyXvKOuk"
      },
      "outputs": [],
      "source": [
        "def collate_fn(data):\n",
        "    input_ids = []\n",
        "    attention_mask = []\n",
        "    target_ids = []\n",
        "    target_attention_mask = []\n",
        "\n",
        "    for item in data:\n",
        "        input_ids.append(item[\"input_ids\"])\n",
        "        attention_mask.append(item[\"attention_mask\"])\n",
        "        target_ids.append(item[\"decoder_input_ids\"])\n",
        "        target_attention_mask.append(item[\"decoder_attention_mask\"])\n",
        "\n",
        "\n",
        "    return {\n",
        "        \"input_ids\": torch.stack(input_ids),\n",
        "        \"attention_mask\": torch.stack(attention_mask),\n",
        "        \"decoder_input_ids\": torch.stack(target_ids),\n",
        "        \"decoder_attention_mask\": torch.stack(target_attention_mask),\n",
        "    }"
      ]
    },
    {
      "cell_type": "code",
      "execution_count": null,
      "metadata": {
        "colab": {
          "base_uri": "https://localhost:8080/"
        },
        "id": "3mg9OlK4NNxs",
        "outputId": "686170c4-b187-4de5-a713-3fff318754d6"
      },
      "outputs": [],
      "source": [
        "from torch.utils.data import DataLoader, Dataset\n",
        "\n",
        "batch_size = 4\n",
        "\n",
        "class CustomDataset(Dataset):\n",
        "    def __init__(self, dataloader):\n",
        "        self.dataloader = dataloader\n",
        "\n",
        "    def __len__(self):\n",
        "        return len(self.dataloader)\n",
        "\n",
        "    def __getitem__(self, index):\n",
        "        data = next(iter(self.dataloader))\n",
        "        return data['input_ids'], data['attention_mask'], data['decoder_input_ids'], data['decoder_attention_mask']\n",
        "\n",
        "train_dataloader = DataLoader(tokenized_dataset[\"train\"], batch_size=batch_size, num_workers=4, pin_memory=True, shuffle=True, collate_fn=collate_fn)\n",
        "val_dataloader = DataLoader(tokenized_dataset[\"validation\"], batch_size=batch_size, num_workers=4, pin_memory=True, collate_fn=collate_fn)\n",
        "\n",
        "\n",
        "train_dataset = CustomDataset(train_dataloader)\n",
        "val_dataset = CustomDataset(val_dataloader)\n"
      ]
    },
    {
      "cell_type": "code",
      "execution_count": null,
      "metadata": {
        "colab": {
          "base_uri": "https://localhost:8080/"
        },
        "id": "sLKjJfFN4FWt",
        "outputId": "86165ea8-2595-4107-8ce3-43d4bddfdf54"
      },
      "outputs": [],
      "source": [
        "len(train_dataset)"
      ]
    },
    {
      "cell_type": "code",
      "execution_count": null,
      "metadata": {
        "id": "D_xAfaAgzkfo"
      },
      "outputs": [],
      "source": [
        "from transformers import T5ForConditionalGeneration, Trainer, TrainingArguments\n",
        "\n",
        "#load the model\n",
        "model = T5ForConditionalGeneration.from_pretrained('t5-base')\n",
        "model.to('cuda')\n",
        "\n",
        "#def training args\n",
        "training_args = TrainingArguments(\n",
        "    output_dir = './results',\n",
        "    num_train_epochs = 3,\n",
        "    learning_rate = 2e-4,\n",
        "    per_device_train_batch_size = batch_size,\n",
        "    per_device_eval_batch_size = batch_size,\n",
        "    warmup_steps = 500,\n",
        "    weight_decay = 0.01,\n",
        "    logging_dir = './logs',\n",
        "    logging_steps = 50,\n",
        "    load_best_model_at_end = True,\n",
        "    metric_for_best_model = ['rouge', 'bleu'],\n",
        "    greater_is_better = 'True',\n",
        "    gradient_accumulation_steps = 4,\n",
        "    evaluation_strategy = 'epoch',\n",
        "    save_strategy = 'epoch',\n",
        "    save_total_limit = 10,\n",
        "    eval_steps = 10,\n",
        "    save_steps = 10,\n",
        ")\n",
        "\n",
        "\n"
      ]
    },
    {
      "cell_type": "code",
      "execution_count": null,
      "metadata": {
        "id": "nS-ND7Q8m3l-"
      },
      "outputs": [],
      "source": [
        "class CustomTrainer(Trainer):\n",
        "  def compute_loss(self, model, inputs, return_outputs=False):\n",
        "    labels = inputs['decoder_input_ids']\n",
        "    input_ids = inputs['input_ids']\n",
        "    attention_mask = inputs['attention_mask']\n",
        "    decoder_attention_mask = inputs['decoder_attention_mask']\n",
        "\n",
        "    outputs = model(\n",
        "        input_ids,\n",
        "        attention_mask = attention_mask,\n",
        "        decoder_input_ids = labels[:, :-1],\n",
        "        decoder_attention_mask = decoder_attention_mask[:, :-1],\n",
        "        use_cache=False\n",
        "    )\n",
        "\n",
        "    logits = outputs.logits\n",
        "    labels = labels[:, :-1]\n",
        "    loss_fn = torch.nn.CrossEntropyLoss()\n",
        "    loss = loss_fn(logits.reshape(-1, logits.shape[-1]), labels.reshape(-1))\n",
        "\n",
        "    inputs['decoder_input_ids'] = labels\n",
        "    inputs['labels'] = labels\n",
        "    inputs['logits'] = logits\n",
        "\n",
        "    return (loss, inputs) if return_outputs else loss"
      ]
    },
    {
      "cell_type": "code",
      "execution_count": null,
      "metadata": {
        "id": "uL_36p3BURI7"
      },
      "outputs": [],
      "source": [
        "def trainer_data_collator(batch):\n",
        "\n",
        "    # input_ids = [item[0] for item in batch]\n",
        "    # input_ids = torch.cat(input_ids, dim=0)\n",
        "    # input_ids = input_ids.reshape(len(batch), -1)\n",
        "    input_ids = batch[0][0]\n",
        "\n",
        "    # attention_mask = [item[1] for item in batch]\n",
        "    # attention_mask = torch.cat(attention_mask, dim=0)\n",
        "    # attention_mask = attention_mask.reshape(len(batch), -1)\n",
        "    attention_mask = batch[0][1]\n",
        "\n",
        "    # decoder_input_ids = [item[2] for item in batch]\n",
        "    # decoder_input_ids = torch.cat(decoder_input_ids, dim=0)\n",
        "    # decoder_input_ids = decoder_input_ids.reshape(len(batch), -1)\n",
        "    decoder_input_ids = batch[0][2]\n",
        "\n",
        "    # decoder_attention_mask = [item[3] for item in batch]\n",
        "    # decoder_attention_mask = torch.cat(decoder_attention_mask, dim=0)\n",
        "    # decoder_attention_mask = decoder_attention_mask.reshape(len(batch), -1)\n",
        "    decoder_attention_mask = batch[0][3]\n",
        "\n",
        "    return {\n",
        "        'input_ids': input_ids.long(),\n",
        "        'attention_mask': attention_mask.long(),\n",
        "        'decoder_input_ids': decoder_input_ids.long(),\n",
        "        'decoder_attention_mask': decoder_attention_mask.long(),\n",
        "    }\n",
        "    "
      ]
    },
    {
      "cell_type": "code",
      "execution_count": null,
      "metadata": {
        "id": "GH988bqNSjMC"
      },
      "outputs": [],
      "source": [
        "#define the trainer\n",
        "trainer = CustomTrainer(\n",
        "    model = model,\n",
        "    args = training_args,\n",
        "    train_dataset = train_dataset,\n",
        "    eval_dataset = val_dataset,\n",
        "    data_collator = trainer_data_collator,\n",
        ")\n"
      ]
    },
    {
      "cell_type": "code",
      "execution_count": null,
      "metadata": {
        "id": "SH8xjPzSsrSq"
      },
      "outputs": [],
      "source": [
        "for i in range(100):\n",
        "    import gc\n",
        "    gc.collect()\n",
        "    torch.cuda.empty_cache()"
      ]
    },
    {
      "cell_type": "code",
      "execution_count": null,
      "metadata": {
        "id": "Rlzj3lFp6zZO"
      },
      "outputs": [],
      "source": [
        "trainer.train()"
      ]
    },
    {
      "cell_type": "code",
      "execution_count": null,
      "metadata": {
        "id": "BX7H0bkfs5zv"
      },
      "outputs": [],
      "source": [
        "trainer.save_model(output_dir='./model')"
      ]
    },
    {
      "cell_type": "code",
      "execution_count": null,
      "metadata": {
        "id": "uA-5ydoKYUL3"
      },
      "outputs": [],
      "source": [
        "for i in range(100):\n",
        "    import gc\n",
        "    gc.collect()\n",
        "    torch.cuda.empty_cache()\n",
        "torch.cuda.memory_summary(device=None, abbreviated=False)"
      ]
    }
  ],
  "metadata": {
    "accelerator": "GPU",
    "colab": {
      "provenance": []
    },
    "gpuClass": "standard",
    "kernelspec": {
      "display_name": "base",
      "language": "python",
      "name": "python3"
    },
    "language_info": {
      "codemirror_mode": {
        "name": "ipython",
        "version": 3
      },
      "file_extension": ".py",
      "mimetype": "text/x-python",
      "name": "python",
      "nbconvert_exporter": "python",
      "pygments_lexer": "ipython3",
      "version": "3.9.13"
    },
    "orig_nbformat": 4,
    "widgets": {
      "application/vnd.jupyter.widget-state+json": {
        "01489d4ac31049d19ffdcb928c253992": {
          "model_module": "@jupyter-widgets/controls",
          "model_module_version": "1.5.0",
          "model_name": "FloatProgressModel",
          "state": {
            "_dom_classes": [],
            "_model_module": "@jupyter-widgets/controls",
            "_model_module_version": "1.5.0",
            "_model_name": "FloatProgressModel",
            "_view_count": null,
            "_view_module": "@jupyter-widgets/controls",
            "_view_module_version": "1.5.0",
            "_view_name": "ProgressView",
            "bar_style": "",
            "description": "",
            "description_tooltip": null,
            "layout": "IPY_MODEL_7f05501592884518960b28d2af958674",
            "max": 2348,
            "min": 0,
            "orientation": "horizontal",
            "style": "IPY_MODEL_727fa95dbf504dd9b941be7ab48e22eb",
            "value": 2348
          }
        },
        "0849da4ac20a42e38f0bb4a8818d9045": {
          "model_module": "@jupyter-widgets/base",
          "model_module_version": "1.2.0",
          "model_name": "LayoutModel",
          "state": {
            "_model_module": "@jupyter-widgets/base",
            "_model_module_version": "1.2.0",
            "_model_name": "LayoutModel",
            "_view_count": null,
            "_view_module": "@jupyter-widgets/base",
            "_view_module_version": "1.2.0",
            "_view_name": "LayoutView",
            "align_content": null,
            "align_items": null,
            "align_self": null,
            "border": null,
            "bottom": null,
            "display": null,
            "flex": null,
            "flex_flow": null,
            "grid_area": null,
            "grid_auto_columns": null,
            "grid_auto_flow": null,
            "grid_auto_rows": null,
            "grid_column": null,
            "grid_gap": null,
            "grid_row": null,
            "grid_template_areas": null,
            "grid_template_columns": null,
            "grid_template_rows": null,
            "height": null,
            "justify_content": null,
            "justify_items": null,
            "left": null,
            "margin": null,
            "max_height": null,
            "max_width": null,
            "min_height": null,
            "min_width": null,
            "object_fit": null,
            "object_position": null,
            "order": null,
            "overflow": null,
            "overflow_x": null,
            "overflow_y": null,
            "padding": null,
            "right": null,
            "top": null,
            "visibility": null,
            "width": null
          }
        },
        "137ffda7485d45429eb789105b0887e2": {
          "model_module": "@jupyter-widgets/controls",
          "model_module_version": "1.5.0",
          "model_name": "HBoxModel",
          "state": {
            "_dom_classes": [],
            "_model_module": "@jupyter-widgets/controls",
            "_model_module_version": "1.5.0",
            "_model_name": "HBoxModel",
            "_view_count": null,
            "_view_module": "@jupyter-widgets/controls",
            "_view_module_version": "1.5.0",
            "_view_name": "HBoxView",
            "box_style": "",
            "children": [
              "IPY_MODEL_a635d7e460654f5596409472e2eddb4e",
              "IPY_MODEL_23f4d7546d6745c082352f68a7b4e29a",
              "IPY_MODEL_e618eba596d743a5a39d9ed780bf76ec"
            ],
            "layout": "IPY_MODEL_63dec751dafa4979a92a2a81d6428688"
          }
        },
        "23f4d7546d6745c082352f68a7b4e29a": {
          "model_module": "@jupyter-widgets/controls",
          "model_module_version": "1.5.0",
          "model_name": "FloatProgressModel",
          "state": {
            "_dom_classes": [],
            "_model_module": "@jupyter-widgets/controls",
            "_model_module_version": "1.5.0",
            "_model_name": "FloatProgressModel",
            "_view_count": null,
            "_view_module": "@jupyter-widgets/controls",
            "_view_module_version": "1.5.0",
            "_view_name": "ProgressView",
            "bar_style": "",
            "description": "",
            "description_tooltip": null,
            "layout": "IPY_MODEL_0849da4ac20a42e38f0bb4a8818d9045",
            "max": 18774,
            "min": 0,
            "orientation": "horizontal",
            "style": "IPY_MODEL_26761c3155e64fa7945025c8698a61cb",
            "value": 18774
          }
        },
        "241b6db2f6d9439ea67b33b405a04136": {
          "model_module": "@jupyter-widgets/controls",
          "model_module_version": "1.5.0",
          "model_name": "HBoxModel",
          "state": {
            "_dom_classes": [],
            "_model_module": "@jupyter-widgets/controls",
            "_model_module_version": "1.5.0",
            "_model_name": "HBoxModel",
            "_view_count": null,
            "_view_module": "@jupyter-widgets/controls",
            "_view_module_version": "1.5.0",
            "_view_name": "HBoxView",
            "box_style": "",
            "children": [
              "IPY_MODEL_d5496374c7df4bb3a92ce4ee70392d3c",
              "IPY_MODEL_01489d4ac31049d19ffdcb928c253992",
              "IPY_MODEL_c1fad5ed6e594e87981275c7947a81b4"
            ],
            "layout": "IPY_MODEL_e7195419141a4d9ea6480fe81b464a70"
          }
        },
        "26761c3155e64fa7945025c8698a61cb": {
          "model_module": "@jupyter-widgets/controls",
          "model_module_version": "1.5.0",
          "model_name": "ProgressStyleModel",
          "state": {
            "_model_module": "@jupyter-widgets/controls",
            "_model_module_version": "1.5.0",
            "_model_name": "ProgressStyleModel",
            "_view_count": null,
            "_view_module": "@jupyter-widgets/base",
            "_view_module_version": "1.2.0",
            "_view_name": "StyleView",
            "bar_color": null,
            "description_width": ""
          }
        },
        "47c9e87d36554d1c9b961109e032775f": {
          "model_module": "@jupyter-widgets/controls",
          "model_module_version": "1.5.0",
          "model_name": "HTMLModel",
          "state": {
            "_dom_classes": [],
            "_model_module": "@jupyter-widgets/controls",
            "_model_module_version": "1.5.0",
            "_model_name": "HTMLModel",
            "_view_count": null,
            "_view_module": "@jupyter-widgets/controls",
            "_view_module_version": "1.5.0",
            "_view_name": "HTMLView",
            "description": "",
            "description_tooltip": null,
            "layout": "IPY_MODEL_561ff78504304c2faee5fa462e5da83d",
            "placeholder": "​",
            "style": "IPY_MODEL_ec022a7dca6240c38c13e0ab38902ee5",
            "value": "Map: 100%"
          }
        },
        "4b23236697a5464a96a6ccbac4a71470": {
          "model_module": "@jupyter-widgets/controls",
          "model_module_version": "1.5.0",
          "model_name": "DescriptionStyleModel",
          "state": {
            "_model_module": "@jupyter-widgets/controls",
            "_model_module_version": "1.5.0",
            "_model_name": "DescriptionStyleModel",
            "_view_count": null,
            "_view_module": "@jupyter-widgets/base",
            "_view_module_version": "1.2.0",
            "_view_name": "StyleView",
            "description_width": ""
          }
        },
        "4ddae80b8890427e8636e1fc09e3963c": {
          "model_module": "@jupyter-widgets/controls",
          "model_module_version": "1.5.0",
          "model_name": "HBoxModel",
          "state": {
            "_dom_classes": [],
            "_model_module": "@jupyter-widgets/controls",
            "_model_module_version": "1.5.0",
            "_model_name": "HBoxModel",
            "_view_count": null,
            "_view_module": "@jupyter-widgets/controls",
            "_view_module_version": "1.5.0",
            "_view_name": "HBoxView",
            "box_style": "",
            "children": [
              "IPY_MODEL_47c9e87d36554d1c9b961109e032775f",
              "IPY_MODEL_7472587531c9488988ed044bbb32bfa0",
              "IPY_MODEL_f81366e99c9345719083ec8ad1cd1e49"
            ],
            "layout": "IPY_MODEL_50f03852f7194325b969788b8ed23079"
          }
        },
        "4ec640942015455da86739bb21d710a4": {
          "model_module": "@jupyter-widgets/base",
          "model_module_version": "1.2.0",
          "model_name": "LayoutModel",
          "state": {
            "_model_module": "@jupyter-widgets/base",
            "_model_module_version": "1.2.0",
            "_model_name": "LayoutModel",
            "_view_count": null,
            "_view_module": "@jupyter-widgets/base",
            "_view_module_version": "1.2.0",
            "_view_name": "LayoutView",
            "align_content": null,
            "align_items": null,
            "align_self": null,
            "border": null,
            "bottom": null,
            "display": null,
            "flex": null,
            "flex_flow": null,
            "grid_area": null,
            "grid_auto_columns": null,
            "grid_auto_flow": null,
            "grid_auto_rows": null,
            "grid_column": null,
            "grid_gap": null,
            "grid_row": null,
            "grid_template_areas": null,
            "grid_template_columns": null,
            "grid_template_rows": null,
            "height": null,
            "justify_content": null,
            "justify_items": null,
            "left": null,
            "margin": null,
            "max_height": null,
            "max_width": null,
            "min_height": null,
            "min_width": null,
            "object_fit": null,
            "object_position": null,
            "order": null,
            "overflow": null,
            "overflow_x": null,
            "overflow_y": null,
            "padding": null,
            "right": null,
            "top": null,
            "visibility": null,
            "width": null
          }
        },
        "50f03852f7194325b969788b8ed23079": {
          "model_module": "@jupyter-widgets/base",
          "model_module_version": "1.2.0",
          "model_name": "LayoutModel",
          "state": {
            "_model_module": "@jupyter-widgets/base",
            "_model_module_version": "1.2.0",
            "_model_name": "LayoutModel",
            "_view_count": null,
            "_view_module": "@jupyter-widgets/base",
            "_view_module_version": "1.2.0",
            "_view_name": "LayoutView",
            "align_content": null,
            "align_items": null,
            "align_self": null,
            "border": null,
            "bottom": null,
            "display": null,
            "flex": null,
            "flex_flow": null,
            "grid_area": null,
            "grid_auto_columns": null,
            "grid_auto_flow": null,
            "grid_auto_rows": null,
            "grid_column": null,
            "grid_gap": null,
            "grid_row": null,
            "grid_template_areas": null,
            "grid_template_columns": null,
            "grid_template_rows": null,
            "height": null,
            "justify_content": null,
            "justify_items": null,
            "left": null,
            "margin": null,
            "max_height": null,
            "max_width": null,
            "min_height": null,
            "min_width": null,
            "object_fit": null,
            "object_position": null,
            "order": null,
            "overflow": null,
            "overflow_x": null,
            "overflow_y": null,
            "padding": null,
            "right": null,
            "top": null,
            "visibility": "hidden",
            "width": null
          }
        },
        "561ff78504304c2faee5fa462e5da83d": {
          "model_module": "@jupyter-widgets/base",
          "model_module_version": "1.2.0",
          "model_name": "LayoutModel",
          "state": {
            "_model_module": "@jupyter-widgets/base",
            "_model_module_version": "1.2.0",
            "_model_name": "LayoutModel",
            "_view_count": null,
            "_view_module": "@jupyter-widgets/base",
            "_view_module_version": "1.2.0",
            "_view_name": "LayoutView",
            "align_content": null,
            "align_items": null,
            "align_self": null,
            "border": null,
            "bottom": null,
            "display": null,
            "flex": null,
            "flex_flow": null,
            "grid_area": null,
            "grid_auto_columns": null,
            "grid_auto_flow": null,
            "grid_auto_rows": null,
            "grid_column": null,
            "grid_gap": null,
            "grid_row": null,
            "grid_template_areas": null,
            "grid_template_columns": null,
            "grid_template_rows": null,
            "height": null,
            "justify_content": null,
            "justify_items": null,
            "left": null,
            "margin": null,
            "max_height": null,
            "max_width": null,
            "min_height": null,
            "min_width": null,
            "object_fit": null,
            "object_position": null,
            "order": null,
            "overflow": null,
            "overflow_x": null,
            "overflow_y": null,
            "padding": null,
            "right": null,
            "top": null,
            "visibility": null,
            "width": null
          }
        },
        "63dec751dafa4979a92a2a81d6428688": {
          "model_module": "@jupyter-widgets/base",
          "model_module_version": "1.2.0",
          "model_name": "LayoutModel",
          "state": {
            "_model_module": "@jupyter-widgets/base",
            "_model_module_version": "1.2.0",
            "_model_name": "LayoutModel",
            "_view_count": null,
            "_view_module": "@jupyter-widgets/base",
            "_view_module_version": "1.2.0",
            "_view_name": "LayoutView",
            "align_content": null,
            "align_items": null,
            "align_self": null,
            "border": null,
            "bottom": null,
            "display": null,
            "flex": null,
            "flex_flow": null,
            "grid_area": null,
            "grid_auto_columns": null,
            "grid_auto_flow": null,
            "grid_auto_rows": null,
            "grid_column": null,
            "grid_gap": null,
            "grid_row": null,
            "grid_template_areas": null,
            "grid_template_columns": null,
            "grid_template_rows": null,
            "height": null,
            "justify_content": null,
            "justify_items": null,
            "left": null,
            "margin": null,
            "max_height": null,
            "max_width": null,
            "min_height": null,
            "min_width": null,
            "object_fit": null,
            "object_position": null,
            "order": null,
            "overflow": null,
            "overflow_x": null,
            "overflow_y": null,
            "padding": null,
            "right": null,
            "top": null,
            "visibility": "hidden",
            "width": null
          }
        },
        "6f2b578a44a84f8c8c140ed08109afb0": {
          "model_module": "@jupyter-widgets/controls",
          "model_module_version": "1.5.0",
          "model_name": "DescriptionStyleModel",
          "state": {
            "_model_module": "@jupyter-widgets/controls",
            "_model_module_version": "1.5.0",
            "_model_name": "DescriptionStyleModel",
            "_view_count": null,
            "_view_module": "@jupyter-widgets/base",
            "_view_module_version": "1.2.0",
            "_view_name": "StyleView",
            "description_width": ""
          }
        },
        "725a03373b3f46b486c7f4f52fe1e186": {
          "model_module": "@jupyter-widgets/base",
          "model_module_version": "1.2.0",
          "model_name": "LayoutModel",
          "state": {
            "_model_module": "@jupyter-widgets/base",
            "_model_module_version": "1.2.0",
            "_model_name": "LayoutModel",
            "_view_count": null,
            "_view_module": "@jupyter-widgets/base",
            "_view_module_version": "1.2.0",
            "_view_name": "LayoutView",
            "align_content": null,
            "align_items": null,
            "align_self": null,
            "border": null,
            "bottom": null,
            "display": null,
            "flex": null,
            "flex_flow": null,
            "grid_area": null,
            "grid_auto_columns": null,
            "grid_auto_flow": null,
            "grid_auto_rows": null,
            "grid_column": null,
            "grid_gap": null,
            "grid_row": null,
            "grid_template_areas": null,
            "grid_template_columns": null,
            "grid_template_rows": null,
            "height": null,
            "justify_content": null,
            "justify_items": null,
            "left": null,
            "margin": null,
            "max_height": null,
            "max_width": null,
            "min_height": null,
            "min_width": null,
            "object_fit": null,
            "object_position": null,
            "order": null,
            "overflow": null,
            "overflow_x": null,
            "overflow_y": null,
            "padding": null,
            "right": null,
            "top": null,
            "visibility": null,
            "width": null
          }
        },
        "727fa95dbf504dd9b941be7ab48e22eb": {
          "model_module": "@jupyter-widgets/controls",
          "model_module_version": "1.5.0",
          "model_name": "ProgressStyleModel",
          "state": {
            "_model_module": "@jupyter-widgets/controls",
            "_model_module_version": "1.5.0",
            "_model_name": "ProgressStyleModel",
            "_view_count": null,
            "_view_module": "@jupyter-widgets/base",
            "_view_module_version": "1.2.0",
            "_view_name": "StyleView",
            "bar_color": null,
            "description_width": ""
          }
        },
        "7472587531c9488988ed044bbb32bfa0": {
          "model_module": "@jupyter-widgets/controls",
          "model_module_version": "1.5.0",
          "model_name": "FloatProgressModel",
          "state": {
            "_dom_classes": [],
            "_model_module": "@jupyter-widgets/controls",
            "_model_module_version": "1.5.0",
            "_model_name": "FloatProgressModel",
            "_view_count": null,
            "_view_module": "@jupyter-widgets/controls",
            "_view_module_version": "1.5.0",
            "_view_name": "ProgressView",
            "bar_style": "",
            "description": "",
            "description_tooltip": null,
            "layout": "IPY_MODEL_725a03373b3f46b486c7f4f52fe1e186",
            "max": 2346,
            "min": 0,
            "orientation": "horizontal",
            "style": "IPY_MODEL_9d71756383b14dd193fc8b1dcc1f9d04",
            "value": 2346
          }
        },
        "7f05501592884518960b28d2af958674": {
          "model_module": "@jupyter-widgets/base",
          "model_module_version": "1.2.0",
          "model_name": "LayoutModel",
          "state": {
            "_model_module": "@jupyter-widgets/base",
            "_model_module_version": "1.2.0",
            "_model_name": "LayoutModel",
            "_view_count": null,
            "_view_module": "@jupyter-widgets/base",
            "_view_module_version": "1.2.0",
            "_view_name": "LayoutView",
            "align_content": null,
            "align_items": null,
            "align_self": null,
            "border": null,
            "bottom": null,
            "display": null,
            "flex": null,
            "flex_flow": null,
            "grid_area": null,
            "grid_auto_columns": null,
            "grid_auto_flow": null,
            "grid_auto_rows": null,
            "grid_column": null,
            "grid_gap": null,
            "grid_row": null,
            "grid_template_areas": null,
            "grid_template_columns": null,
            "grid_template_rows": null,
            "height": null,
            "justify_content": null,
            "justify_items": null,
            "left": null,
            "margin": null,
            "max_height": null,
            "max_width": null,
            "min_height": null,
            "min_width": null,
            "object_fit": null,
            "object_position": null,
            "order": null,
            "overflow": null,
            "overflow_x": null,
            "overflow_y": null,
            "padding": null,
            "right": null,
            "top": null,
            "visibility": null,
            "width": null
          }
        },
        "83b57b28598246c3a62d412c48119b32": {
          "model_module": "@jupyter-widgets/base",
          "model_module_version": "1.2.0",
          "model_name": "LayoutModel",
          "state": {
            "_model_module": "@jupyter-widgets/base",
            "_model_module_version": "1.2.0",
            "_model_name": "LayoutModel",
            "_view_count": null,
            "_view_module": "@jupyter-widgets/base",
            "_view_module_version": "1.2.0",
            "_view_name": "LayoutView",
            "align_content": null,
            "align_items": null,
            "align_self": null,
            "border": null,
            "bottom": null,
            "display": null,
            "flex": null,
            "flex_flow": null,
            "grid_area": null,
            "grid_auto_columns": null,
            "grid_auto_flow": null,
            "grid_auto_rows": null,
            "grid_column": null,
            "grid_gap": null,
            "grid_row": null,
            "grid_template_areas": null,
            "grid_template_columns": null,
            "grid_template_rows": null,
            "height": null,
            "justify_content": null,
            "justify_items": null,
            "left": null,
            "margin": null,
            "max_height": null,
            "max_width": null,
            "min_height": null,
            "min_width": null,
            "object_fit": null,
            "object_position": null,
            "order": null,
            "overflow": null,
            "overflow_x": null,
            "overflow_y": null,
            "padding": null,
            "right": null,
            "top": null,
            "visibility": null,
            "width": null
          }
        },
        "8a31977be2bf43ad85d3e2044eec368b": {
          "model_module": "@jupyter-widgets/controls",
          "model_module_version": "1.5.0",
          "model_name": "DescriptionStyleModel",
          "state": {
            "_model_module": "@jupyter-widgets/controls",
            "_model_module_version": "1.5.0",
            "_model_name": "DescriptionStyleModel",
            "_view_count": null,
            "_view_module": "@jupyter-widgets/base",
            "_view_module_version": "1.2.0",
            "_view_name": "StyleView",
            "description_width": ""
          }
        },
        "99716e71454d460e892b3aca92cd0894": {
          "model_module": "@jupyter-widgets/base",
          "model_module_version": "1.2.0",
          "model_name": "LayoutModel",
          "state": {
            "_model_module": "@jupyter-widgets/base",
            "_model_module_version": "1.2.0",
            "_model_name": "LayoutModel",
            "_view_count": null,
            "_view_module": "@jupyter-widgets/base",
            "_view_module_version": "1.2.0",
            "_view_name": "LayoutView",
            "align_content": null,
            "align_items": null,
            "align_self": null,
            "border": null,
            "bottom": null,
            "display": null,
            "flex": null,
            "flex_flow": null,
            "grid_area": null,
            "grid_auto_columns": null,
            "grid_auto_flow": null,
            "grid_auto_rows": null,
            "grid_column": null,
            "grid_gap": null,
            "grid_row": null,
            "grid_template_areas": null,
            "grid_template_columns": null,
            "grid_template_rows": null,
            "height": null,
            "justify_content": null,
            "justify_items": null,
            "left": null,
            "margin": null,
            "max_height": null,
            "max_width": null,
            "min_height": null,
            "min_width": null,
            "object_fit": null,
            "object_position": null,
            "order": null,
            "overflow": null,
            "overflow_x": null,
            "overflow_y": null,
            "padding": null,
            "right": null,
            "top": null,
            "visibility": null,
            "width": null
          }
        },
        "9aa0859220fd4e749bd634b636723800": {
          "model_module": "@jupyter-widgets/controls",
          "model_module_version": "1.5.0",
          "model_name": "DescriptionStyleModel",
          "state": {
            "_model_module": "@jupyter-widgets/controls",
            "_model_module_version": "1.5.0",
            "_model_name": "DescriptionStyleModel",
            "_view_count": null,
            "_view_module": "@jupyter-widgets/base",
            "_view_module_version": "1.2.0",
            "_view_name": "StyleView",
            "description_width": ""
          }
        },
        "9d71756383b14dd193fc8b1dcc1f9d04": {
          "model_module": "@jupyter-widgets/controls",
          "model_module_version": "1.5.0",
          "model_name": "ProgressStyleModel",
          "state": {
            "_model_module": "@jupyter-widgets/controls",
            "_model_module_version": "1.5.0",
            "_model_name": "ProgressStyleModel",
            "_view_count": null,
            "_view_module": "@jupyter-widgets/base",
            "_view_module_version": "1.2.0",
            "_view_name": "StyleView",
            "bar_color": null,
            "description_width": ""
          }
        },
        "a635d7e460654f5596409472e2eddb4e": {
          "model_module": "@jupyter-widgets/controls",
          "model_module_version": "1.5.0",
          "model_name": "HTMLModel",
          "state": {
            "_dom_classes": [],
            "_model_module": "@jupyter-widgets/controls",
            "_model_module_version": "1.5.0",
            "_model_name": "HTMLModel",
            "_view_count": null,
            "_view_module": "@jupyter-widgets/controls",
            "_view_module_version": "1.5.0",
            "_view_name": "HTMLView",
            "description": "",
            "description_tooltip": null,
            "layout": "IPY_MODEL_afec31cb9d404fdfbe1a810a846f9e1e",
            "placeholder": "​",
            "style": "IPY_MODEL_9aa0859220fd4e749bd634b636723800",
            "value": "Map: 100%"
          }
        },
        "afec31cb9d404fdfbe1a810a846f9e1e": {
          "model_module": "@jupyter-widgets/base",
          "model_module_version": "1.2.0",
          "model_name": "LayoutModel",
          "state": {
            "_model_module": "@jupyter-widgets/base",
            "_model_module_version": "1.2.0",
            "_model_name": "LayoutModel",
            "_view_count": null,
            "_view_module": "@jupyter-widgets/base",
            "_view_module_version": "1.2.0",
            "_view_name": "LayoutView",
            "align_content": null,
            "align_items": null,
            "align_self": null,
            "border": null,
            "bottom": null,
            "display": null,
            "flex": null,
            "flex_flow": null,
            "grid_area": null,
            "grid_auto_columns": null,
            "grid_auto_flow": null,
            "grid_auto_rows": null,
            "grid_column": null,
            "grid_gap": null,
            "grid_row": null,
            "grid_template_areas": null,
            "grid_template_columns": null,
            "grid_template_rows": null,
            "height": null,
            "justify_content": null,
            "justify_items": null,
            "left": null,
            "margin": null,
            "max_height": null,
            "max_width": null,
            "min_height": null,
            "min_width": null,
            "object_fit": null,
            "object_position": null,
            "order": null,
            "overflow": null,
            "overflow_x": null,
            "overflow_y": null,
            "padding": null,
            "right": null,
            "top": null,
            "visibility": null,
            "width": null
          }
        },
        "b29caca8e71d4a3e8414bf33b9ba1774": {
          "model_module": "@jupyter-widgets/controls",
          "model_module_version": "1.5.0",
          "model_name": "DescriptionStyleModel",
          "state": {
            "_model_module": "@jupyter-widgets/controls",
            "_model_module_version": "1.5.0",
            "_model_name": "DescriptionStyleModel",
            "_view_count": null,
            "_view_module": "@jupyter-widgets/base",
            "_view_module_version": "1.2.0",
            "_view_name": "StyleView",
            "description_width": ""
          }
        },
        "c1fad5ed6e594e87981275c7947a81b4": {
          "model_module": "@jupyter-widgets/controls",
          "model_module_version": "1.5.0",
          "model_name": "HTMLModel",
          "state": {
            "_dom_classes": [],
            "_model_module": "@jupyter-widgets/controls",
            "_model_module_version": "1.5.0",
            "_model_name": "HTMLModel",
            "_view_count": null,
            "_view_module": "@jupyter-widgets/controls",
            "_view_module_version": "1.5.0",
            "_view_name": "HTMLView",
            "description": "",
            "description_tooltip": null,
            "layout": "IPY_MODEL_99716e71454d460e892b3aca92cd0894",
            "placeholder": "​",
            "style": "IPY_MODEL_b29caca8e71d4a3e8414bf33b9ba1774",
            "value": " 2342/2348 [00:10&lt;00:00, 273.31 examples/s]"
          }
        },
        "d5496374c7df4bb3a92ce4ee70392d3c": {
          "model_module": "@jupyter-widgets/controls",
          "model_module_version": "1.5.0",
          "model_name": "HTMLModel",
          "state": {
            "_dom_classes": [],
            "_model_module": "@jupyter-widgets/controls",
            "_model_module_version": "1.5.0",
            "_model_name": "HTMLModel",
            "_view_count": null,
            "_view_module": "@jupyter-widgets/controls",
            "_view_module_version": "1.5.0",
            "_view_name": "HTMLView",
            "description": "",
            "description_tooltip": null,
            "layout": "IPY_MODEL_4ec640942015455da86739bb21d710a4",
            "placeholder": "​",
            "style": "IPY_MODEL_6f2b578a44a84f8c8c140ed08109afb0",
            "value": "Map: 100%"
          }
        },
        "e618eba596d743a5a39d9ed780bf76ec": {
          "model_module": "@jupyter-widgets/controls",
          "model_module_version": "1.5.0",
          "model_name": "HTMLModel",
          "state": {
            "_dom_classes": [],
            "_model_module": "@jupyter-widgets/controls",
            "_model_module_version": "1.5.0",
            "_model_name": "HTMLModel",
            "_view_count": null,
            "_view_module": "@jupyter-widgets/controls",
            "_view_module_version": "1.5.0",
            "_view_name": "HTMLView",
            "description": "",
            "description_tooltip": null,
            "layout": "IPY_MODEL_e6ed4d0024f7457fa2d32031261a4291",
            "placeholder": "​",
            "style": "IPY_MODEL_4b23236697a5464a96a6ccbac4a71470",
            "value": " 18764/18774 [01:42&lt;00:00, 139.03 examples/s]"
          }
        },
        "e6ed4d0024f7457fa2d32031261a4291": {
          "model_module": "@jupyter-widgets/base",
          "model_module_version": "1.2.0",
          "model_name": "LayoutModel",
          "state": {
            "_model_module": "@jupyter-widgets/base",
            "_model_module_version": "1.2.0",
            "_model_name": "LayoutModel",
            "_view_count": null,
            "_view_module": "@jupyter-widgets/base",
            "_view_module_version": "1.2.0",
            "_view_name": "LayoutView",
            "align_content": null,
            "align_items": null,
            "align_self": null,
            "border": null,
            "bottom": null,
            "display": null,
            "flex": null,
            "flex_flow": null,
            "grid_area": null,
            "grid_auto_columns": null,
            "grid_auto_flow": null,
            "grid_auto_rows": null,
            "grid_column": null,
            "grid_gap": null,
            "grid_row": null,
            "grid_template_areas": null,
            "grid_template_columns": null,
            "grid_template_rows": null,
            "height": null,
            "justify_content": null,
            "justify_items": null,
            "left": null,
            "margin": null,
            "max_height": null,
            "max_width": null,
            "min_height": null,
            "min_width": null,
            "object_fit": null,
            "object_position": null,
            "order": null,
            "overflow": null,
            "overflow_x": null,
            "overflow_y": null,
            "padding": null,
            "right": null,
            "top": null,
            "visibility": null,
            "width": null
          }
        },
        "e7195419141a4d9ea6480fe81b464a70": {
          "model_module": "@jupyter-widgets/base",
          "model_module_version": "1.2.0",
          "model_name": "LayoutModel",
          "state": {
            "_model_module": "@jupyter-widgets/base",
            "_model_module_version": "1.2.0",
            "_model_name": "LayoutModel",
            "_view_count": null,
            "_view_module": "@jupyter-widgets/base",
            "_view_module_version": "1.2.0",
            "_view_name": "LayoutView",
            "align_content": null,
            "align_items": null,
            "align_self": null,
            "border": null,
            "bottom": null,
            "display": null,
            "flex": null,
            "flex_flow": null,
            "grid_area": null,
            "grid_auto_columns": null,
            "grid_auto_flow": null,
            "grid_auto_rows": null,
            "grid_column": null,
            "grid_gap": null,
            "grid_row": null,
            "grid_template_areas": null,
            "grid_template_columns": null,
            "grid_template_rows": null,
            "height": null,
            "justify_content": null,
            "justify_items": null,
            "left": null,
            "margin": null,
            "max_height": null,
            "max_width": null,
            "min_height": null,
            "min_width": null,
            "object_fit": null,
            "object_position": null,
            "order": null,
            "overflow": null,
            "overflow_x": null,
            "overflow_y": null,
            "padding": null,
            "right": null,
            "top": null,
            "visibility": "hidden",
            "width": null
          }
        },
        "ec022a7dca6240c38c13e0ab38902ee5": {
          "model_module": "@jupyter-widgets/controls",
          "model_module_version": "1.5.0",
          "model_name": "DescriptionStyleModel",
          "state": {
            "_model_module": "@jupyter-widgets/controls",
            "_model_module_version": "1.5.0",
            "_model_name": "DescriptionStyleModel",
            "_view_count": null,
            "_view_module": "@jupyter-widgets/base",
            "_view_module_version": "1.2.0",
            "_view_name": "StyleView",
            "description_width": ""
          }
        },
        "f81366e99c9345719083ec8ad1cd1e49": {
          "model_module": "@jupyter-widgets/controls",
          "model_module_version": "1.5.0",
          "model_name": "HTMLModel",
          "state": {
            "_dom_classes": [],
            "_model_module": "@jupyter-widgets/controls",
            "_model_module_version": "1.5.0",
            "_model_name": "HTMLModel",
            "_view_count": null,
            "_view_module": "@jupyter-widgets/controls",
            "_view_module_version": "1.5.0",
            "_view_name": "HTMLView",
            "description": "",
            "description_tooltip": null,
            "layout": "IPY_MODEL_83b57b28598246c3a62d412c48119b32",
            "placeholder": "​",
            "style": "IPY_MODEL_8a31977be2bf43ad85d3e2044eec368b",
            "value": " 2341/2346 [00:10&lt;00:00, 240.01 examples/s]"
          }
        }
      }
    }
  },
  "nbformat": 4,
  "nbformat_minor": 0
}
