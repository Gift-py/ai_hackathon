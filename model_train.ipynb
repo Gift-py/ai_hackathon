{
  "cells": [
    {
      "cell_type": "code",
      "execution_count": 1,
      "metadata": {
        "colab": {
          "base_uri": "https://localhost:8080/"
        },
        "id": "cYcC8DtOeJ9U",
        "outputId": "c316a324-2ec1-4330-964a-689d45155652"
      },
      "outputs": [
        {
          "output_type": "stream",
          "name": "stdout",
          "text": [
            "fatal: destination path 'ai_hackathon' already exists and is not an empty directory.\n"
          ]
        }
      ],
      "source": [
        "!git clone -b MLOps https://github.com/Gift-py/ai_hackathon/\n"
      ]
    },
    {
      "cell_type": "code",
      "execution_count": 2,
      "metadata": {
        "colab": {
          "base_uri": "https://localhost:8080/"
        },
        "id": "EXNj-sxCezG7",
        "outputId": "cc81cd3f-f012-4f16-ef8e-b14bf5fe6a39"
      },
      "outputs": [
        {
          "output_type": "stream",
          "name": "stdout",
          "text": [
            "/content/ai_hackathon\n"
          ]
        }
      ],
      "source": [
        "%cd ai_hackathon/"
      ]
    },
    {
      "cell_type": "code",
      "execution_count": 3,
      "metadata": {
        "id": "0TixHcQMeDjY"
      },
      "outputs": [],
      "source": [
        "import os\n",
        "import pandas as pd\n"
      ]
    },
    {
      "cell_type": "code",
      "execution_count": 4,
      "metadata": {
        "id": "Oad2iK0NeDjb"
      },
      "outputs": [],
      "source": [
        "qaps = pd.read_csv('./qaps_html.csv')\n",
        "id_url = pd.read_csv('./id_url_html.csv')"
      ]
    },
    {
      "cell_type": "code",
      "execution_count": 5,
      "metadata": {
        "colab": {
          "base_uri": "https://localhost:8080/"
        },
        "id": "J5sauyZ3eDjc",
        "outputId": "0523a58f-3e04-4bba-e164-8339c4bfd694"
      },
      "outputs": [
        {
          "output_type": "execute_result",
          "data": {
            "text/plain": [
              "2026606"
            ]
          },
          "metadata": {},
          "execution_count": 5
        }
      ],
      "source": [
        "id_url.iloc[:,3].max()\n"
      ]
    },
    {
      "cell_type": "code",
      "execution_count": 6,
      "metadata": {
        "id": "uV0v2-kyeDjd"
      },
      "outputs": [],
      "source": [
        "summaries = pd.read_csv('./summaries_html.csv')\n"
      ]
    },
    {
      "cell_type": "code",
      "execution_count": 7,
      "metadata": {
        "colab": {
          "base_uri": "https://localhost:8080/"
        },
        "id": "INlWC7OkfTLk",
        "outputId": "4561f2ae-674a-4a59-cf13-c48ed6fb3f4f"
      },
      "outputs": [
        {
          "output_type": "stream",
          "name": "stdout",
          "text": [
            "Looking in indexes: https://pypi.org/simple, https://us-python.pkg.dev/colab-wheels/public/simple/\n",
            "Requirement already satisfied: datasets in /usr/local/lib/python3.9/dist-packages (2.11.0)\n",
            "Requirement already satisfied: pandas in /usr/local/lib/python3.9/dist-packages (from datasets) (1.5.3)\n",
            "Requirement already satisfied: multiprocess in /usr/local/lib/python3.9/dist-packages (from datasets) (0.70.14)\n",
            "Requirement already satisfied: requests>=2.19.0 in /usr/local/lib/python3.9/dist-packages (from datasets) (2.27.1)\n",
            "Requirement already satisfied: aiohttp in /usr/local/lib/python3.9/dist-packages (from datasets) (3.8.4)\n",
            "Requirement already satisfied: pyarrow>=8.0.0 in /usr/local/lib/python3.9/dist-packages (from datasets) (9.0.0)\n",
            "Requirement already satisfied: xxhash in /usr/local/lib/python3.9/dist-packages (from datasets) (3.2.0)\n",
            "Requirement already satisfied: responses<0.19 in /usr/local/lib/python3.9/dist-packages (from datasets) (0.18.0)\n",
            "Requirement already satisfied: pyyaml>=5.1 in /usr/local/lib/python3.9/dist-packages (from datasets) (6.0)\n",
            "Requirement already satisfied: tqdm>=4.62.1 in /usr/local/lib/python3.9/dist-packages (from datasets) (4.65.0)\n",
            "Requirement already satisfied: fsspec[http]>=2021.11.1 in /usr/local/lib/python3.9/dist-packages (from datasets) (2023.4.0)\n",
            "Requirement already satisfied: packaging in /usr/local/lib/python3.9/dist-packages (from datasets) (23.1)\n",
            "Requirement already satisfied: numpy>=1.17 in /usr/local/lib/python3.9/dist-packages (from datasets) (1.22.4)\n",
            "Requirement already satisfied: dill<0.3.7,>=0.3.0 in /usr/local/lib/python3.9/dist-packages (from datasets) (0.3.6)\n",
            "Requirement already satisfied: huggingface-hub<1.0.0,>=0.11.0 in /usr/local/lib/python3.9/dist-packages (from datasets) (0.14.1)\n",
            "Requirement already satisfied: frozenlist>=1.1.1 in /usr/local/lib/python3.9/dist-packages (from aiohttp->datasets) (1.3.3)\n",
            "Requirement already satisfied: aiosignal>=1.1.2 in /usr/local/lib/python3.9/dist-packages (from aiohttp->datasets) (1.3.1)\n",
            "Requirement already satisfied: multidict<7.0,>=4.5 in /usr/local/lib/python3.9/dist-packages (from aiohttp->datasets) (6.0.4)\n",
            "Requirement already satisfied: charset-normalizer<4.0,>=2.0 in /usr/local/lib/python3.9/dist-packages (from aiohttp->datasets) (2.0.12)\n",
            "Requirement already satisfied: attrs>=17.3.0 in /usr/local/lib/python3.9/dist-packages (from aiohttp->datasets) (23.1.0)\n",
            "Requirement already satisfied: yarl<2.0,>=1.0 in /usr/local/lib/python3.9/dist-packages (from aiohttp->datasets) (1.9.2)\n",
            "Requirement already satisfied: async-timeout<5.0,>=4.0.0a3 in /usr/local/lib/python3.9/dist-packages (from aiohttp->datasets) (4.0.2)\n",
            "Requirement already satisfied: filelock in /usr/local/lib/python3.9/dist-packages (from huggingface-hub<1.0.0,>=0.11.0->datasets) (3.11.0)\n",
            "Requirement already satisfied: typing-extensions>=3.7.4.3 in /usr/local/lib/python3.9/dist-packages (from huggingface-hub<1.0.0,>=0.11.0->datasets) (4.5.0)\n",
            "Requirement already satisfied: urllib3<1.27,>=1.21.1 in /usr/local/lib/python3.9/dist-packages (from requests>=2.19.0->datasets) (1.26.15)\n",
            "Requirement already satisfied: certifi>=2017.4.17 in /usr/local/lib/python3.9/dist-packages (from requests>=2.19.0->datasets) (2022.12.7)\n",
            "Requirement already satisfied: idna<4,>=2.5 in /usr/local/lib/python3.9/dist-packages (from requests>=2.19.0->datasets) (3.4)\n",
            "Requirement already satisfied: python-dateutil>=2.8.1 in /usr/local/lib/python3.9/dist-packages (from pandas->datasets) (2.8.2)\n",
            "Requirement already satisfied: pytz>=2020.1 in /usr/local/lib/python3.9/dist-packages (from pandas->datasets) (2022.7.1)\n",
            "Requirement already satisfied: six>=1.5 in /usr/local/lib/python3.9/dist-packages (from python-dateutil>=2.8.1->pandas->datasets) (1.16.0)\n"
          ]
        }
      ],
      "source": [
        "!pip install datasets"
      ]
    },
    {
      "cell_type": "code",
      "execution_count": 8,
      "metadata": {
        "id": "qJ5rx5B8eDje"
      },
      "outputs": [],
      "source": [
        "from datasets import Dataset, DatasetDict\n",
        "import os\n",
        "import json\n",
        "import csv\n",
        "import pandas as pd\n",
        "\n",
        "qa_dataset = []\n",
        "for index, row in qaps.iterrows():\n",
        "    context = summaries[summaries['document_id'] == row['document_id']]['summary'].values[0]\n",
        "    question = row['question']\n",
        "    answer = [row['answer1'], row['answer2']]\n",
        "    qa_dataset.append(\n",
        "        {\n",
        "            'context': context,\n",
        "            'question': question,\n",
        "            'answer': answer\n",
        "        }\n",
        "    )"
      ]
    },
    {
      "cell_type": "code",
      "execution_count": 9,
      "metadata": {
        "colab": {
          "base_uri": "https://localhost:8080/"
        },
        "id": "ivHvy8SyeDje",
        "outputId": "7615fd23-4dad-4d03-d86c-0abe62c7639a"
      },
      "outputs": [
        {
          "output_type": "execute_result",
          "data": {
            "text/plain": [
              "{'context': \" At Madeline Hall, an old mansion-house near Southampton belonging to the wealthy de Versely family, lives an elderly spinster Miss Delmar, the aunt of the earl de Versely and Captain Delmar. Miss Delmar invites Arabella Mason, the daughter of a deceased, well-liked steward to stay with her as a lower-class guest in the house. Captain Delmar is known to visit his aunt at Madeline Hall frequently, accompanied by his valet Ben Keene, who is also a private marine. Captain Delmar eventually suggests that Ben should propose to Arabella, and the two marry in secret, to the frustration of Miss Delmar and Arabella's mother. The captain is able to smooth over the situation with his aunt, even after it is discovered that Arabella was six months pregnant at the time of the marriage. She later gives birth to a boy, who takes the Captain's Christian name and Ben's surname--the titular Percival Keene.\\nThe family moves to Chatham, after Ben is ordered back with his detachment. Arabella opens up a successful shop and circulating library below her house, enlisting the help of her mother and sister, Amelia. Percival becomes well known in town from his mischievous pranks on officers and other strangers, often encouraged by his aunt Amelia. However, Percival's mother and grandmother are less fond of his disregard for manners, and insist on sending him to school after an episode in which he bites his grandmother. Percival reports to the school house of Mr. O'Gallagher, a poor Irish scholar, who rules his class with a system of severe corporal punishment. Mr. O'Gallagher routinely bullies Percival by stealing his lunch, leading Percival to seek revenge by poisoning his sandwiches with calomel. On Guy Fawkes Day the schoolteacher confiscates all the schoolboys' fireworks, for which Percival retaliates by setting off the collected fireworks while the teacher sits above them, leading to the total destruction of the schoolhouse and near death of the schoolmaster.\\nWhen Percival is a young teenager, Captain Delmar reappears and offers him a position aboard his new navy ship, the H.M. Calliope. While preparing to enter service, Percival overhears gossip of his illegitimate birth, introducing the idea that Captain Delmar may be his father. He confronts his mother about his parentage, which she at first harshly denies but later tearfully explains the truth of her affair. Early in his service in the navy, Percival is captured during a pirate raid along with others. The pirate crew is entirely black, and the captain explains that they are primarily escaped slaves from the Americas. Percival is taken in as a cabin boy, and later dyes his skin tan in the appearance of a mulatto to please the captain who doesn't approve of white skin. The pirates often seek to take over slave trading vessels, killing every white person on board. During the taking of one such vessel, Percival is able is convince the captain to spare the lives of a wealthy Dutch merchant and his young daughter, Minnie. Eventually the H.M. Calliope takes the pirate ship, and Percival--unrecognizable with his dyed skin--is taken as a prisoner, later to convince his fellow shipman of his true identity.\\nAfter his reappearance aboard the ship, Percival gains esteem among the crew and is welcomed back by the emotional Captain Delmar. His reputation continues to grow over the course of his service in conflicts with Dutch and French vessels around the island of Curacao. He also stands in for an ill Captain Delmar in a duel with a French officer, effectively saving the captain's life. At this point, the captain receives news that his older brother has died, making him the new Lord de Versely, and before returning to England he grants Perceval command of his own schooner. After another intense but successful battle with a French war ship, Percival is promoted to captain. During his service in the Navy, Percival still partakes in the merry pranks of his youth, and at one point teams up with a mulatto hotel owner in Curaรงao to convince his fellow officers they've been poisoned. He also keeps correspondence with Minnie, developing a romance with the beautiful heiress.\\nNear the end of the story, Percival guides his crew through a terrible storm in which many of the crew are killed and the ship is heavily damaged. After being saved by another English vessel, he receives a letter informing him of Lord de Versely's sudden death from heart complications and learns that he has been left all of his personal property. Percival is still disappointed that he can not take his father's name. He later journey's with his friend Bob Cross to Hamburg to reunite with Minnie, but is captured by French troops on the road and sentenced to execution for spying. During a skirmish between the French and the Cossacks, Percival and Cross are able to escape and continue on the road. At the end of the novel, Percival proposes to Minnie, and stands to inherit a great fortune through her father. He also receives a letter from the de Versely attorney letting him know he has been granted the arms and name of Delmar.\",\n",
              " 'question': 'Who does Arabella Mason wed?',\n",
              " 'answer': [\"Ben Keene, Delmar's valet\", 'Ben Keene']}"
            ]
          },
          "metadata": {},
          "execution_count": 9
        }
      ],
      "source": [
        "qa_dataset[1]"
      ]
    },
    {
      "cell_type": "code",
      "execution_count": 10,
      "metadata": {
        "id": "T30WQjm_eDjf"
      },
      "outputs": [],
      "source": [
        "train_ratio = 0.8\n",
        "val_ratio = 0.1\n",
        "test_ratio = 0.1\n",
        "\n",
        "n_samples = len(qa_dataset)\n",
        "train_end = int(train_ratio * n_samples)\n",
        "val_end = train_end + int(val_ratio * n_samples)\n",
        "train_data = Dataset.from_list(qa_dataset[:train_end])\n",
        "val_data = Dataset.from_list(qa_dataset[train_end:val_end])\n",
        "test_data = Dataset.from_list(qa_dataset[val_end:])\n"
      ]
    },
    {
      "cell_type": "code",
      "execution_count": 11,
      "metadata": {
        "id": "rmYd2g_9eDjf"
      },
      "outputs": [],
      "source": [
        "data_dict = DatasetDict({\n",
        "    'train': train_data,\n",
        "    'validation': val_data,\n",
        "    'test': test_data\n",
        "})"
      ]
    },
    {
      "cell_type": "code",
      "execution_count": 12,
      "metadata": {
        "colab": {
          "base_uri": "https://localhost:8080/"
        },
        "id": "iqFaulttfmJc",
        "outputId": "0170084d-1e64-43cb-b6a4-66ea921ba4c9"
      },
      "outputs": [
        {
          "output_type": "stream",
          "name": "stdout",
          "text": [
            "Looking in indexes: https://pypi.org/simple, https://us-python.pkg.dev/colab-wheels/public/simple/\n",
            "Requirement already satisfied: transformers in /usr/local/lib/python3.9/dist-packages (4.28.1)\n",
            "Requirement already satisfied: sentencepiece in /usr/local/lib/python3.9/dist-packages (0.1.98)\n",
            "Requirement already satisfied: huggingface-hub<1.0,>=0.11.0 in /usr/local/lib/python3.9/dist-packages (from transformers) (0.14.1)\n",
            "Requirement already satisfied: packaging>=20.0 in /usr/local/lib/python3.9/dist-packages (from transformers) (23.1)\n",
            "Requirement already satisfied: tqdm>=4.27 in /usr/local/lib/python3.9/dist-packages (from transformers) (4.65.0)\n",
            "Requirement already satisfied: filelock in /usr/local/lib/python3.9/dist-packages (from transformers) (3.11.0)\n",
            "Requirement already satisfied: requests in /usr/local/lib/python3.9/dist-packages (from transformers) (2.27.1)\n",
            "Requirement already satisfied: tokenizers!=0.11.3,<0.14,>=0.11.1 in /usr/local/lib/python3.9/dist-packages (from transformers) (0.13.3)\n",
            "Requirement already satisfied: numpy>=1.17 in /usr/local/lib/python3.9/dist-packages (from transformers) (1.22.4)\n",
            "Requirement already satisfied: pyyaml>=5.1 in /usr/local/lib/python3.9/dist-packages (from transformers) (6.0)\n",
            "Requirement already satisfied: regex!=2019.12.17 in /usr/local/lib/python3.9/dist-packages (from transformers) (2022.10.31)\n",
            "Requirement already satisfied: typing-extensions>=3.7.4.3 in /usr/local/lib/python3.9/dist-packages (from huggingface-hub<1.0,>=0.11.0->transformers) (4.5.0)\n",
            "Requirement already satisfied: fsspec in /usr/local/lib/python3.9/dist-packages (from huggingface-hub<1.0,>=0.11.0->transformers) (2023.4.0)\n",
            "Requirement already satisfied: urllib3<1.27,>=1.21.1 in /usr/local/lib/python3.9/dist-packages (from requests->transformers) (1.26.15)\n",
            "Requirement already satisfied: idna<4,>=2.5 in /usr/local/lib/python3.9/dist-packages (from requests->transformers) (3.4)\n",
            "Requirement already satisfied: certifi>=2017.4.17 in /usr/local/lib/python3.9/dist-packages (from requests->transformers) (2022.12.7)\n",
            "Requirement already satisfied: charset-normalizer~=2.0.0 in /usr/local/lib/python3.9/dist-packages (from requests->transformers) (2.0.12)\n"
          ]
        }
      ],
      "source": [
        "!pip install transformers sentencepiece\n"
      ]
    },
    {
      "cell_type": "code",
      "execution_count": 13,
      "metadata": {
        "colab": {
          "base_uri": "https://localhost:8080/"
        },
        "id": "cpGcTRxQeDjg",
        "outputId": "79ff59c5-1be9-451d-ac0a-87941dccae5b"
      },
      "outputs": [
        {
          "output_type": "stream",
          "name": "stderr",
          "text": [
            "/usr/local/lib/python3.9/dist-packages/transformers/models/t5/tokenization_t5.py:163: FutureWarning: This tokenizer was incorrectly instantiated with a model max length of 512 which will be corrected in Transformers v5.\n",
            "For now, this behavior is kept to avoid breaking backwards compatibility when padding/encoding with `truncation is True`.\n",
            "- Be aware that you SHOULD NOT rely on t5-base automatically truncating your input to 512 when padding/encoding.\n",
            "- If you want to encode/pad to sequences longer than 512 you can either instantiate this tokenizer with `model_max_length` or pass `max_length` when encoding/padding.\n",
            "- To avoid this warning, please instantiate this tokenizer with `model_max_length` set to your preferred value.\n",
            "  warnings.warn(\n"
          ]
        }
      ],
      "source": [
        "from transformers import T5Tokenizer\n",
        "import torch\n",
        " \n",
        "\n",
        "tokenizer = T5Tokenizer.from_pretrained('t5-base')\n",
        "\n",
        "def tokenize_example(example):\n",
        "    context, question, answers = example['context'], example['question'], example['answer']   \n",
        "    input_str = f'context: {context} </s>'\n",
        "    answer = ' | '.join(answers)    \n",
        "    target_str = f'question: {question} answer: {answer} </s>'\n",
        "    inputs = tokenizer(input_str, padding='max_length', truncation=True, max_length=512, return_tensors='pt')\n",
        "    target = tokenizer(target_str, padding='max_length', truncation=True, max_length=512, return_tensors='pt')\n",
        "\n",
        "    input_ids = torch.tensor(inputs['input_ids'][0])\n",
        "    attention_mask = torch.tensor(inputs['attention_mask'][0])\n",
        "    target_input_ids = torch.tensor(target['input_ids'][0])\n",
        "    target_attention_mask = torch.tensor(target['attention_mask'][0])\n",
        "    \n",
        "    return {'input_ids': input_ids, 'attention_mask':attention_mask, 'decoder_input_ids':target_input_ids, 'decoder_attention_mask':target_attention_mask}\n",
        "\n",
        "\n",
        "\n",
        "# def tokenized_to_tensor(tokenized_data):\n",
        "#     input_ids = torch.tensor(tokenized_data['input_ids'])\n",
        "#     attention_mask = torch.tensor(tokenized_data['attention_mask'])\n",
        "#     decoder_input_ids = torch.tensor(tokenized_data['target_input_ids'])\n",
        "#     decoder_attention_mask = torch.tensor(tokenized_data['target_attention_mask'])\n",
        "\n",
        "#     dataset = TensorDataset(input_ids, attention_mask, decoder_input_ids, decoder_attention_mask)\n",
        "\n",
        "#     return dataset"
      ]
    },
    {
      "cell_type": "code",
      "execution_count": 14,
      "metadata": {
        "colab": {
          "base_uri": "https://localhost:8080/",
          "height": 211,
          "referenced_widgets": [
            "137ffda7485d45429eb789105b0887e2",
            "a635d7e460654f5596409472e2eddb4e",
            "23f4d7546d6745c082352f68a7b4e29a",
            "e618eba596d743a5a39d9ed780bf76ec",
            "63dec751dafa4979a92a2a81d6428688",
            "afec31cb9d404fdfbe1a810a846f9e1e",
            "9aa0859220fd4e749bd634b636723800",
            "0849da4ac20a42e38f0bb4a8818d9045",
            "26761c3155e64fa7945025c8698a61cb",
            "e6ed4d0024f7457fa2d32031261a4291",
            "4b23236697a5464a96a6ccbac4a71470",
            "4ddae80b8890427e8636e1fc09e3963c",
            "47c9e87d36554d1c9b961109e032775f",
            "7472587531c9488988ed044bbb32bfa0",
            "f81366e99c9345719083ec8ad1cd1e49",
            "50f03852f7194325b969788b8ed23079",
            "561ff78504304c2faee5fa462e5da83d",
            "ec022a7dca6240c38c13e0ab38902ee5",
            "725a03373b3f46b486c7f4f52fe1e186",
            "9d71756383b14dd193fc8b1dcc1f9d04",
            "83b57b28598246c3a62d412c48119b32",
            "8a31977be2bf43ad85d3e2044eec368b",
            "241b6db2f6d9439ea67b33b405a04136",
            "d5496374c7df4bb3a92ce4ee70392d3c",
            "01489d4ac31049d19ffdcb928c253992",
            "c1fad5ed6e594e87981275c7947a81b4",
            "e7195419141a4d9ea6480fe81b464a70",
            "4ec640942015455da86739bb21d710a4",
            "6f2b578a44a84f8c8c140ed08109afb0",
            "7f05501592884518960b28d2af958674",
            "727fa95dbf504dd9b941be7ab48e22eb",
            "99716e71454d460e892b3aca92cd0894",
            "b29caca8e71d4a3e8414bf33b9ba1774"
          ]
        },
        "id": "Lc44FU80eDjg",
        "outputId": "8aa6b320-74c3-459e-e8ca-2ed247cf8f7c"
      },
      "outputs": [
        {
          "output_type": "display_data",
          "data": {
            "text/plain": [
              "Map:   0%|          | 0/18774 [00:00<?, ? examples/s]"
            ],
            "application/vnd.jupyter.widget-view+json": {
              "version_major": 2,
              "version_minor": 0,
              "model_id": "137ffda7485d45429eb789105b0887e2"
            }
          },
          "metadata": {}
        },
        {
          "output_type": "stream",
          "name": "stderr",
          "text": [
            "/usr/local/lib/python3.9/dist-packages/transformers/models/t5/tokenization_t5.py:226: UserWarning: This sequence already has </s>. In future versions this behavior may lead to duplicated eos tokens being added.\n",
            "  warnings.warn(\n",
            "<ipython-input-13-0b91fdb1effe>:15: UserWarning: To copy construct from a tensor, it is recommended to use sourceTensor.clone().detach() or sourceTensor.clone().detach().requires_grad_(True), rather than torch.tensor(sourceTensor).\n",
            "  input_ids = torch.tensor(inputs['input_ids'][0])\n",
            "<ipython-input-13-0b91fdb1effe>:16: UserWarning: To copy construct from a tensor, it is recommended to use sourceTensor.clone().detach() or sourceTensor.clone().detach().requires_grad_(True), rather than torch.tensor(sourceTensor).\n",
            "  attention_mask = torch.tensor(inputs['attention_mask'][0])\n",
            "<ipython-input-13-0b91fdb1effe>:17: UserWarning: To copy construct from a tensor, it is recommended to use sourceTensor.clone().detach() or sourceTensor.clone().detach().requires_grad_(True), rather than torch.tensor(sourceTensor).\n",
            "  target_input_ids = torch.tensor(target['input_ids'][0])\n",
            "<ipython-input-13-0b91fdb1effe>:18: UserWarning: To copy construct from a tensor, it is recommended to use sourceTensor.clone().detach() or sourceTensor.clone().detach().requires_grad_(True), rather than torch.tensor(sourceTensor).\n",
            "  target_attention_mask = torch.tensor(target['attention_mask'][0])\n"
          ]
        },
        {
          "output_type": "display_data",
          "data": {
            "text/plain": [
              "Map:   0%|          | 0/2346 [00:00<?, ? examples/s]"
            ],
            "application/vnd.jupyter.widget-view+json": {
              "version_major": 2,
              "version_minor": 0,
              "model_id": "4ddae80b8890427e8636e1fc09e3963c"
            }
          },
          "metadata": {}
        },
        {
          "output_type": "display_data",
          "data": {
            "text/plain": [
              "Map:   0%|          | 0/2348 [00:00<?, ? examples/s]"
            ],
            "application/vnd.jupyter.widget-view+json": {
              "version_major": 2,
              "version_minor": 0,
              "model_id": "241b6db2f6d9439ea67b33b405a04136"
            }
          },
          "metadata": {}
        }
      ],
      "source": [
        "tokenized_dataset = data_dict.map(tokenize_example)\n",
        "tokenized_dataset.set_format(type='torch', columns=['input_ids', 'attention_mask', 'decoder_input_ids', 'decoder_attention_mask'])"
      ]
    },
    {
      "cell_type": "code",
      "execution_count": 15,
      "metadata": {
        "id": "eRxkPMNGvv9V",
        "colab": {
          "base_uri": "https://localhost:8080/"
        },
        "outputId": "bff5af39-95e0-4bd9-a2eb-d82f66632c74"
      },
      "outputs": [
        {
          "output_type": "execute_result",
          "data": {
            "text/plain": [
              "512"
            ]
          },
          "metadata": {},
          "execution_count": 15
        }
      ],
      "source": [
        "len(tokenized_dataset['train'][0]['input_ids'])"
      ]
    },
    {
      "cell_type": "code",
      "execution_count": 16,
      "metadata": {
        "id": "DkefcyXvKOuk"
      },
      "outputs": [],
      "source": [
        "def collate_fn(data):\n",
        "    input_ids = []\n",
        "    attention_mask = []\n",
        "    target_ids = []\n",
        "    target_attention_mask = []\n",
        "\n",
        "    for item in data:\n",
        "        input_ids.append(item[\"input_ids\"])\n",
        "        attention_mask.append(item[\"attention_mask\"])\n",
        "        target_ids.append(item[\"decoder_input_ids\"])\n",
        "        target_attention_mask.append(item[\"decoder_attention_mask\"])\n",
        "\n",
        "\n",
        "    return {\n",
        "        \"input_ids\": torch.stack(input_ids),\n",
        "        \"attention_mask\": torch.stack(attention_mask),\n",
        "        \"decoder_input_ids\": torch.stack(target_ids),\n",
        "        \"decoder_attention_mask\": torch.stack(target_attention_mask),\n",
        "    }"
      ]
    },
    {
      "cell_type": "code",
      "execution_count": 17,
      "metadata": {
        "colab": {
          "base_uri": "https://localhost:8080/"
        },
        "id": "3mg9OlK4NNxs",
        "outputId": "686170c4-b187-4de5-a713-3fff318754d6"
      },
      "outputs": [
        {
          "output_type": "stream",
          "name": "stderr",
          "text": [
            "/usr/local/lib/python3.9/dist-packages/torch/utils/data/dataloader.py:561: UserWarning: This DataLoader will create 4 worker processes in total. Our suggested max number of worker in current system is 2, which is smaller than what this DataLoader is going to create. Please be aware that excessive worker creation might get DataLoader running slow or even freeze, lower the worker number to avoid potential slowness/freeze if necessary.\n",
            "  warnings.warn(_create_warning_msg(\n"
          ]
        }
      ],
      "source": [
        "from torch.utils.data import DataLoader, Dataset\n",
        "\n",
        "batch_size = 4\n",
        "\n",
        "class CustomDataset(Dataset):\n",
        "    def __init__(self, dataloader):\n",
        "        self.dataloader = dataloader\n",
        "\n",
        "    def __len__(self):\n",
        "        return len(self.dataloader)\n",
        "\n",
        "    def __getitem__(self, index):\n",
        "        data = next(iter(self.dataloader))\n",
        "        return data['input_ids'], data['attention_mask'], data['decoder_input_ids'], data['decoder_attention_mask']\n",
        "\n",
        "train_dataloader = DataLoader(tokenized_dataset[\"train\"], batch_size=batch_size, num_workers=4, pin_memory=True, shuffle=True, collate_fn=collate_fn)\n",
        "val_dataloader = DataLoader(tokenized_dataset[\"validation\"], batch_size=batch_size, num_workers=4, pin_memory=True, collate_fn=collate_fn)\n",
        "\n",
        "\n",
        "train_dataset = CustomDataset(train_dataloader)\n",
        "val_dataset = CustomDataset(val_dataloader)\n"
      ]
    },
    {
      "cell_type": "code",
      "execution_count": 18,
      "metadata": {
        "colab": {
          "base_uri": "https://localhost:8080/"
        },
        "id": "sLKjJfFN4FWt",
        "outputId": "86165ea8-2595-4107-8ce3-43d4bddfdf54"
      },
      "outputs": [
        {
          "output_type": "execute_result",
          "data": {
            "text/plain": [
              "4694"
            ]
          },
          "metadata": {},
          "execution_count": 18
        }
      ],
      "source": [
        "len(train_dataset)"
      ]
    },
    {
      "cell_type": "code",
      "execution_count": 30,
      "metadata": {
        "id": "D_xAfaAgzkfo"
      },
      "outputs": [],
      "source": [
        "from transformers import T5ForConditionalGeneration, Trainer, TrainingArguments\n",
        "\n",
        "#load the model\n",
        "model = T5ForConditionalGeneration.from_pretrained('t5-base')\n",
        "model.to('cuda')\n",
        "\n",
        "#def training args\n",
        "training_args = TrainingArguments(\n",
        "    output_dir = './results',\n",
        "    num_train_epochs = 3,\n",
        "    learning_rate = 2e-4,\n",
        "    per_device_train_batch_size = batch_size,\n",
        "    per_device_eval_batch_size = batch_size,\n",
        "    warmup_steps = 500,\n",
        "    weight_decay = 0.01,\n",
        "    logging_dir = './logs',\n",
        "    logging_steps = 50,\n",
        "    load_best_model_at_end = True,\n",
        "    metric_for_best_model = ['rouge', 'bleu'],\n",
        "    greater_is_better = 'True',\n",
        "    gradient_accumulation_steps = 4,\n",
        "    evaluation_strategy = 'epoch',\n",
        "    save_strategy = 'epoch',\n",
        "    save_total_limit = 10,\n",
        "    eval_steps = 10,\n",
        "    save_steps = 10,\n",
        ")\n",
        "\n",
        "\n"
      ]
    },
    {
      "cell_type": "code",
      "source": [
        "class CustomTrainer(Trainer):\n",
        "  def compute_loss(self, model, inputs, return_outputs=False):\n",
        "    labels = inputs['decoder_input_ids']\n",
        "    input_ids = inputs['input_ids']\n",
        "    attention_mask = inputs['attention_mask']\n",
        "    decoder_attention_mask = inputs['decoder_attention_mask']\n",
        "\n",
        "    outputs = model(\n",
        "        input_ids,\n",
        "        attention_mask = attention_mask,\n",
        "        decoder_input_ids = labels[:, :-1],\n",
        "        decoder_attention_mask = decoder_attention_mask[:, :-1],\n",
        "        use_cache=False\n",
        "    )\n",
        "\n",
        "    logits = outputs.logits\n",
        "    labels = labels[:, :-1]\n",
        "    loss_fn = torch.nn.CrossEntropyLoss()\n",
        "    loss = loss_fn(logits.reshape(-1, logits.shape[-1]), labels.reshape(-1))\n",
        "\n",
        "    inputs['decoder_input_ids'] = labels\n",
        "    inputs['labels'] = labels\n",
        "    inputs['logits'] = logits\n",
        "\n",
        "    return (loss, inputs) if return_outputs else loss"
      ],
      "metadata": {
        "id": "nS-ND7Q8m3l-"
      },
      "execution_count": 20,
      "outputs": []
    },
    {
      "cell_type": "code",
      "execution_count": 21,
      "metadata": {
        "id": "uL_36p3BURI7"
      },
      "outputs": [],
      "source": [
        "def trainer_data_collator(batch):\n",
        "\n",
        "    # input_ids = [item[0] for item in batch]\n",
        "    # input_ids = torch.cat(input_ids, dim=0)\n",
        "    # input_ids = input_ids.reshape(len(batch), -1)\n",
        "    input_ids = batch[0][0]\n",
        "\n",
        "    # attention_mask = [item[1] for item in batch]\n",
        "    # attention_mask = torch.cat(attention_mask, dim=0)\n",
        "    # attention_mask = attention_mask.reshape(len(batch), -1)\n",
        "    attention_mask = batch[0][1]\n",
        "\n",
        "    # decoder_input_ids = [item[2] for item in batch]\n",
        "    # decoder_input_ids = torch.cat(decoder_input_ids, dim=0)\n",
        "    # decoder_input_ids = decoder_input_ids.reshape(len(batch), -1)\n",
        "    decoder_input_ids = batch[0][2]\n",
        "\n",
        "    # decoder_attention_mask = [item[3] for item in batch]\n",
        "    # decoder_attention_mask = torch.cat(decoder_attention_mask, dim=0)\n",
        "    # decoder_attention_mask = decoder_attention_mask.reshape(len(batch), -1)\n",
        "    decoder_attention_mask = batch[0][3]\n",
        "\n",
        "    return {\n",
        "        'input_ids': input_ids.long(),\n",
        "        'attention_mask': attention_mask.long(),\n",
        "        'decoder_input_ids': decoder_input_ids.long(),\n",
        "        'decoder_attention_mask': decoder_attention_mask.long(),\n",
        "    }\n",
        "    "
      ]
    },
    {
      "cell_type": "code",
      "execution_count": 31,
      "metadata": {
        "id": "GH988bqNSjMC"
      },
      "outputs": [],
      "source": [
        "#define the trainer\n",
        "trainer = CustomTrainer(\n",
        "    model = model,\n",
        "    args = training_args,\n",
        "    train_dataset = train_dataset,\n",
        "    eval_dataset = val_dataset,\n",
        "    data_collator = trainer_data_collator,\n",
        ")\n"
      ]
    },
    {
      "cell_type": "code",
      "source": [
        "for i in range(100):\n",
        "    import gc\n",
        "    gc.collect()\n",
        "    torch.cuda.empty_cache()"
      ],
      "metadata": {
        "id": "SH8xjPzSsrSq"
      },
      "execution_count": 32,
      "outputs": []
    },
    {
      "cell_type": "code",
      "execution_count": null,
      "metadata": {
        "id": "Rlzj3lFp6zZO"
      },
      "outputs": [],
      "source": [
        "trainer.train()"
      ]
    },
    {
      "cell_type": "code",
      "source": [
        "trainer.save_model(output_dir='./model')"
      ],
      "metadata": {
        "id": "BX7H0bkfs5zv"
      },
      "execution_count": null,
      "outputs": []
    },
    {
      "cell_type": "code",
      "execution_count": null,
      "metadata": {
        "id": "uA-5ydoKYUL3"
      },
      "outputs": [],
      "source": [
        "for i in range(100):\n",
        "    import gc\n",
        "    gc.collect()\n",
        "    torch.cuda.empty_cache()\n",
        "torch.cuda.memory_summary(device=None, abbreviated=False)"
      ]
    }
  ],
  "metadata": {
    "accelerator": "GPU",
    "colab": {
      "provenance": []
    },
    "gpuClass": "standard",
    "kernelspec": {
      "display_name": "base",
      "language": "python",
      "name": "python3"
    },
    "language_info": {
      "codemirror_mode": {
        "name": "ipython",
        "version": 3
      },
      "file_extension": ".py",
      "mimetype": "text/x-python",
      "name": "python",
      "nbconvert_exporter": "python",
      "pygments_lexer": "ipython3",
      "version": "3.9.13"
    },
    "orig_nbformat": 4,
    "widgets": {
      "application/vnd.jupyter.widget-state+json": {
        "137ffda7485d45429eb789105b0887e2": {
          "model_module": "@jupyter-widgets/controls",
          "model_name": "HBoxModel",
          "model_module_version": "1.5.0",
          "state": {
            "_dom_classes": [],
            "_model_module": "@jupyter-widgets/controls",
            "_model_module_version": "1.5.0",
            "_model_name": "HBoxModel",
            "_view_count": null,
            "_view_module": "@jupyter-widgets/controls",
            "_view_module_version": "1.5.0",
            "_view_name": "HBoxView",
            "box_style": "",
            "children": [
              "IPY_MODEL_a635d7e460654f5596409472e2eddb4e",
              "IPY_MODEL_23f4d7546d6745c082352f68a7b4e29a",
              "IPY_MODEL_e618eba596d743a5a39d9ed780bf76ec"
            ],
            "layout": "IPY_MODEL_63dec751dafa4979a92a2a81d6428688"
          }
        },
        "a635d7e460654f5596409472e2eddb4e": {
          "model_module": "@jupyter-widgets/controls",
          "model_name": "HTMLModel",
          "model_module_version": "1.5.0",
          "state": {
            "_dom_classes": [],
            "_model_module": "@jupyter-widgets/controls",
            "_model_module_version": "1.5.0",
            "_model_name": "HTMLModel",
            "_view_count": null,
            "_view_module": "@jupyter-widgets/controls",
            "_view_module_version": "1.5.0",
            "_view_name": "HTMLView",
            "description": "",
            "description_tooltip": null,
            "layout": "IPY_MODEL_afec31cb9d404fdfbe1a810a846f9e1e",
            "placeholder": "​",
            "style": "IPY_MODEL_9aa0859220fd4e749bd634b636723800",
            "value": "Map: 100%"
          }
        },
        "23f4d7546d6745c082352f68a7b4e29a": {
          "model_module": "@jupyter-widgets/controls",
          "model_name": "FloatProgressModel",
          "model_module_version": "1.5.0",
          "state": {
            "_dom_classes": [],
            "_model_module": "@jupyter-widgets/controls",
            "_model_module_version": "1.5.0",
            "_model_name": "FloatProgressModel",
            "_view_count": null,
            "_view_module": "@jupyter-widgets/controls",
            "_view_module_version": "1.5.0",
            "_view_name": "ProgressView",
            "bar_style": "",
            "description": "",
            "description_tooltip": null,
            "layout": "IPY_MODEL_0849da4ac20a42e38f0bb4a8818d9045",
            "max": 18774,
            "min": 0,
            "orientation": "horizontal",
            "style": "IPY_MODEL_26761c3155e64fa7945025c8698a61cb",
            "value": 18774
          }
        },
        "e618eba596d743a5a39d9ed780bf76ec": {
          "model_module": "@jupyter-widgets/controls",
          "model_name": "HTMLModel",
          "model_module_version": "1.5.0",
          "state": {
            "_dom_classes": [],
            "_model_module": "@jupyter-widgets/controls",
            "_model_module_version": "1.5.0",
            "_model_name": "HTMLModel",
            "_view_count": null,
            "_view_module": "@jupyter-widgets/controls",
            "_view_module_version": "1.5.0",
            "_view_name": "HTMLView",
            "description": "",
            "description_tooltip": null,
            "layout": "IPY_MODEL_e6ed4d0024f7457fa2d32031261a4291",
            "placeholder": "​",
            "style": "IPY_MODEL_4b23236697a5464a96a6ccbac4a71470",
            "value": " 18764/18774 [01:42&lt;00:00, 139.03 examples/s]"
          }
        },
        "63dec751dafa4979a92a2a81d6428688": {
          "model_module": "@jupyter-widgets/base",
          "model_name": "LayoutModel",
          "model_module_version": "1.2.0",
          "state": {
            "_model_module": "@jupyter-widgets/base",
            "_model_module_version": "1.2.0",
            "_model_name": "LayoutModel",
            "_view_count": null,
            "_view_module": "@jupyter-widgets/base",
            "_view_module_version": "1.2.0",
            "_view_name": "LayoutView",
            "align_content": null,
            "align_items": null,
            "align_self": null,
            "border": null,
            "bottom": null,
            "display": null,
            "flex": null,
            "flex_flow": null,
            "grid_area": null,
            "grid_auto_columns": null,
            "grid_auto_flow": null,
            "grid_auto_rows": null,
            "grid_column": null,
            "grid_gap": null,
            "grid_row": null,
            "grid_template_areas": null,
            "grid_template_columns": null,
            "grid_template_rows": null,
            "height": null,
            "justify_content": null,
            "justify_items": null,
            "left": null,
            "margin": null,
            "max_height": null,
            "max_width": null,
            "min_height": null,
            "min_width": null,
            "object_fit": null,
            "object_position": null,
            "order": null,
            "overflow": null,
            "overflow_x": null,
            "overflow_y": null,
            "padding": null,
            "right": null,
            "top": null,
            "visibility": "hidden",
            "width": null
          }
        },
        "afec31cb9d404fdfbe1a810a846f9e1e": {
          "model_module": "@jupyter-widgets/base",
          "model_name": "LayoutModel",
          "model_module_version": "1.2.0",
          "state": {
            "_model_module": "@jupyter-widgets/base",
            "_model_module_version": "1.2.0",
            "_model_name": "LayoutModel",
            "_view_count": null,
            "_view_module": "@jupyter-widgets/base",
            "_view_module_version": "1.2.0",
            "_view_name": "LayoutView",
            "align_content": null,
            "align_items": null,
            "align_self": null,
            "border": null,
            "bottom": null,
            "display": null,
            "flex": null,
            "flex_flow": null,
            "grid_area": null,
            "grid_auto_columns": null,
            "grid_auto_flow": null,
            "grid_auto_rows": null,
            "grid_column": null,
            "grid_gap": null,
            "grid_row": null,
            "grid_template_areas": null,
            "grid_template_columns": null,
            "grid_template_rows": null,
            "height": null,
            "justify_content": null,
            "justify_items": null,
            "left": null,
            "margin": null,
            "max_height": null,
            "max_width": null,
            "min_height": null,
            "min_width": null,
            "object_fit": null,
            "object_position": null,
            "order": null,
            "overflow": null,
            "overflow_x": null,
            "overflow_y": null,
            "padding": null,
            "right": null,
            "top": null,
            "visibility": null,
            "width": null
          }
        },
        "9aa0859220fd4e749bd634b636723800": {
          "model_module": "@jupyter-widgets/controls",
          "model_name": "DescriptionStyleModel",
          "model_module_version": "1.5.0",
          "state": {
            "_model_module": "@jupyter-widgets/controls",
            "_model_module_version": "1.5.0",
            "_model_name": "DescriptionStyleModel",
            "_view_count": null,
            "_view_module": "@jupyter-widgets/base",
            "_view_module_version": "1.2.0",
            "_view_name": "StyleView",
            "description_width": ""
          }
        },
        "0849da4ac20a42e38f0bb4a8818d9045": {
          "model_module": "@jupyter-widgets/base",
          "model_name": "LayoutModel",
          "model_module_version": "1.2.0",
          "state": {
            "_model_module": "@jupyter-widgets/base",
            "_model_module_version": "1.2.0",
            "_model_name": "LayoutModel",
            "_view_count": null,
            "_view_module": "@jupyter-widgets/base",
            "_view_module_version": "1.2.0",
            "_view_name": "LayoutView",
            "align_content": null,
            "align_items": null,
            "align_self": null,
            "border": null,
            "bottom": null,
            "display": null,
            "flex": null,
            "flex_flow": null,
            "grid_area": null,
            "grid_auto_columns": null,
            "grid_auto_flow": null,
            "grid_auto_rows": null,
            "grid_column": null,
            "grid_gap": null,
            "grid_row": null,
            "grid_template_areas": null,
            "grid_template_columns": null,
            "grid_template_rows": null,
            "height": null,
            "justify_content": null,
            "justify_items": null,
            "left": null,
            "margin": null,
            "max_height": null,
            "max_width": null,
            "min_height": null,
            "min_width": null,
            "object_fit": null,
            "object_position": null,
            "order": null,
            "overflow": null,
            "overflow_x": null,
            "overflow_y": null,
            "padding": null,
            "right": null,
            "top": null,
            "visibility": null,
            "width": null
          }
        },
        "26761c3155e64fa7945025c8698a61cb": {
          "model_module": "@jupyter-widgets/controls",
          "model_name": "ProgressStyleModel",
          "model_module_version": "1.5.0",
          "state": {
            "_model_module": "@jupyter-widgets/controls",
            "_model_module_version": "1.5.0",
            "_model_name": "ProgressStyleModel",
            "_view_count": null,
            "_view_module": "@jupyter-widgets/base",
            "_view_module_version": "1.2.0",
            "_view_name": "StyleView",
            "bar_color": null,
            "description_width": ""
          }
        },
        "e6ed4d0024f7457fa2d32031261a4291": {
          "model_module": "@jupyter-widgets/base",
          "model_name": "LayoutModel",
          "model_module_version": "1.2.0",
          "state": {
            "_model_module": "@jupyter-widgets/base",
            "_model_module_version": "1.2.0",
            "_model_name": "LayoutModel",
            "_view_count": null,
            "_view_module": "@jupyter-widgets/base",
            "_view_module_version": "1.2.0",
            "_view_name": "LayoutView",
            "align_content": null,
            "align_items": null,
            "align_self": null,
            "border": null,
            "bottom": null,
            "display": null,
            "flex": null,
            "flex_flow": null,
            "grid_area": null,
            "grid_auto_columns": null,
            "grid_auto_flow": null,
            "grid_auto_rows": null,
            "grid_column": null,
            "grid_gap": null,
            "grid_row": null,
            "grid_template_areas": null,
            "grid_template_columns": null,
            "grid_template_rows": null,
            "height": null,
            "justify_content": null,
            "justify_items": null,
            "left": null,
            "margin": null,
            "max_height": null,
            "max_width": null,
            "min_height": null,
            "min_width": null,
            "object_fit": null,
            "object_position": null,
            "order": null,
            "overflow": null,
            "overflow_x": null,
            "overflow_y": null,
            "padding": null,
            "right": null,
            "top": null,
            "visibility": null,
            "width": null
          }
        },
        "4b23236697a5464a96a6ccbac4a71470": {
          "model_module": "@jupyter-widgets/controls",
          "model_name": "DescriptionStyleModel",
          "model_module_version": "1.5.0",
          "state": {
            "_model_module": "@jupyter-widgets/controls",
            "_model_module_version": "1.5.0",
            "_model_name": "DescriptionStyleModel",
            "_view_count": null,
            "_view_module": "@jupyter-widgets/base",
            "_view_module_version": "1.2.0",
            "_view_name": "StyleView",
            "description_width": ""
          }
        },
        "4ddae80b8890427e8636e1fc09e3963c": {
          "model_module": "@jupyter-widgets/controls",
          "model_name": "HBoxModel",
          "model_module_version": "1.5.0",
          "state": {
            "_dom_classes": [],
            "_model_module": "@jupyter-widgets/controls",
            "_model_module_version": "1.5.0",
            "_model_name": "HBoxModel",
            "_view_count": null,
            "_view_module": "@jupyter-widgets/controls",
            "_view_module_version": "1.5.0",
            "_view_name": "HBoxView",
            "box_style": "",
            "children": [
              "IPY_MODEL_47c9e87d36554d1c9b961109e032775f",
              "IPY_MODEL_7472587531c9488988ed044bbb32bfa0",
              "IPY_MODEL_f81366e99c9345719083ec8ad1cd1e49"
            ],
            "layout": "IPY_MODEL_50f03852f7194325b969788b8ed23079"
          }
        },
        "47c9e87d36554d1c9b961109e032775f": {
          "model_module": "@jupyter-widgets/controls",
          "model_name": "HTMLModel",
          "model_module_version": "1.5.0",
          "state": {
            "_dom_classes": [],
            "_model_module": "@jupyter-widgets/controls",
            "_model_module_version": "1.5.0",
            "_model_name": "HTMLModel",
            "_view_count": null,
            "_view_module": "@jupyter-widgets/controls",
            "_view_module_version": "1.5.0",
            "_view_name": "HTMLView",
            "description": "",
            "description_tooltip": null,
            "layout": "IPY_MODEL_561ff78504304c2faee5fa462e5da83d",
            "placeholder": "​",
            "style": "IPY_MODEL_ec022a7dca6240c38c13e0ab38902ee5",
            "value": "Map: 100%"
          }
        },
        "7472587531c9488988ed044bbb32bfa0": {
          "model_module": "@jupyter-widgets/controls",
          "model_name": "FloatProgressModel",
          "model_module_version": "1.5.0",
          "state": {
            "_dom_classes": [],
            "_model_module": "@jupyter-widgets/controls",
            "_model_module_version": "1.5.0",
            "_model_name": "FloatProgressModel",
            "_view_count": null,
            "_view_module": "@jupyter-widgets/controls",
            "_view_module_version": "1.5.0",
            "_view_name": "ProgressView",
            "bar_style": "",
            "description": "",
            "description_tooltip": null,
            "layout": "IPY_MODEL_725a03373b3f46b486c7f4f52fe1e186",
            "max": 2346,
            "min": 0,
            "orientation": "horizontal",
            "style": "IPY_MODEL_9d71756383b14dd193fc8b1dcc1f9d04",
            "value": 2346
          }
        },
        "f81366e99c9345719083ec8ad1cd1e49": {
          "model_module": "@jupyter-widgets/controls",
          "model_name": "HTMLModel",
          "model_module_version": "1.5.0",
          "state": {
            "_dom_classes": [],
            "_model_module": "@jupyter-widgets/controls",
            "_model_module_version": "1.5.0",
            "_model_name": "HTMLModel",
            "_view_count": null,
            "_view_module": "@jupyter-widgets/controls",
            "_view_module_version": "1.5.0",
            "_view_name": "HTMLView",
            "description": "",
            "description_tooltip": null,
            "layout": "IPY_MODEL_83b57b28598246c3a62d412c48119b32",
            "placeholder": "​",
            "style": "IPY_MODEL_8a31977be2bf43ad85d3e2044eec368b",
            "value": " 2341/2346 [00:10&lt;00:00, 240.01 examples/s]"
          }
        },
        "50f03852f7194325b969788b8ed23079": {
          "model_module": "@jupyter-widgets/base",
          "model_name": "LayoutModel",
          "model_module_version": "1.2.0",
          "state": {
            "_model_module": "@jupyter-widgets/base",
            "_model_module_version": "1.2.0",
            "_model_name": "LayoutModel",
            "_view_count": null,
            "_view_module": "@jupyter-widgets/base",
            "_view_module_version": "1.2.0",
            "_view_name": "LayoutView",
            "align_content": null,
            "align_items": null,
            "align_self": null,
            "border": null,
            "bottom": null,
            "display": null,
            "flex": null,
            "flex_flow": null,
            "grid_area": null,
            "grid_auto_columns": null,
            "grid_auto_flow": null,
            "grid_auto_rows": null,
            "grid_column": null,
            "grid_gap": null,
            "grid_row": null,
            "grid_template_areas": null,
            "grid_template_columns": null,
            "grid_template_rows": null,
            "height": null,
            "justify_content": null,
            "justify_items": null,
            "left": null,
            "margin": null,
            "max_height": null,
            "max_width": null,
            "min_height": null,
            "min_width": null,
            "object_fit": null,
            "object_position": null,
            "order": null,
            "overflow": null,
            "overflow_x": null,
            "overflow_y": null,
            "padding": null,
            "right": null,
            "top": null,
            "visibility": "hidden",
            "width": null
          }
        },
        "561ff78504304c2faee5fa462e5da83d": {
          "model_module": "@jupyter-widgets/base",
          "model_name": "LayoutModel",
          "model_module_version": "1.2.0",
          "state": {
            "_model_module": "@jupyter-widgets/base",
            "_model_module_version": "1.2.0",
            "_model_name": "LayoutModel",
            "_view_count": null,
            "_view_module": "@jupyter-widgets/base",
            "_view_module_version": "1.2.0",
            "_view_name": "LayoutView",
            "align_content": null,
            "align_items": null,
            "align_self": null,
            "border": null,
            "bottom": null,
            "display": null,
            "flex": null,
            "flex_flow": null,
            "grid_area": null,
            "grid_auto_columns": null,
            "grid_auto_flow": null,
            "grid_auto_rows": null,
            "grid_column": null,
            "grid_gap": null,
            "grid_row": null,
            "grid_template_areas": null,
            "grid_template_columns": null,
            "grid_template_rows": null,
            "height": null,
            "justify_content": null,
            "justify_items": null,
            "left": null,
            "margin": null,
            "max_height": null,
            "max_width": null,
            "min_height": null,
            "min_width": null,
            "object_fit": null,
            "object_position": null,
            "order": null,
            "overflow": null,
            "overflow_x": null,
            "overflow_y": null,
            "padding": null,
            "right": null,
            "top": null,
            "visibility": null,
            "width": null
          }
        },
        "ec022a7dca6240c38c13e0ab38902ee5": {
          "model_module": "@jupyter-widgets/controls",
          "model_name": "DescriptionStyleModel",
          "model_module_version": "1.5.0",
          "state": {
            "_model_module": "@jupyter-widgets/controls",
            "_model_module_version": "1.5.0",
            "_model_name": "DescriptionStyleModel",
            "_view_count": null,
            "_view_module": "@jupyter-widgets/base",
            "_view_module_version": "1.2.0",
            "_view_name": "StyleView",
            "description_width": ""
          }
        },
        "725a03373b3f46b486c7f4f52fe1e186": {
          "model_module": "@jupyter-widgets/base",
          "model_name": "LayoutModel",
          "model_module_version": "1.2.0",
          "state": {
            "_model_module": "@jupyter-widgets/base",
            "_model_module_version": "1.2.0",
            "_model_name": "LayoutModel",
            "_view_count": null,
            "_view_module": "@jupyter-widgets/base",
            "_view_module_version": "1.2.0",
            "_view_name": "LayoutView",
            "align_content": null,
            "align_items": null,
            "align_self": null,
            "border": null,
            "bottom": null,
            "display": null,
            "flex": null,
            "flex_flow": null,
            "grid_area": null,
            "grid_auto_columns": null,
            "grid_auto_flow": null,
            "grid_auto_rows": null,
            "grid_column": null,
            "grid_gap": null,
            "grid_row": null,
            "grid_template_areas": null,
            "grid_template_columns": null,
            "grid_template_rows": null,
            "height": null,
            "justify_content": null,
            "justify_items": null,
            "left": null,
            "margin": null,
            "max_height": null,
            "max_width": null,
            "min_height": null,
            "min_width": null,
            "object_fit": null,
            "object_position": null,
            "order": null,
            "overflow": null,
            "overflow_x": null,
            "overflow_y": null,
            "padding": null,
            "right": null,
            "top": null,
            "visibility": null,
            "width": null
          }
        },
        "9d71756383b14dd193fc8b1dcc1f9d04": {
          "model_module": "@jupyter-widgets/controls",
          "model_name": "ProgressStyleModel",
          "model_module_version": "1.5.0",
          "state": {
            "_model_module": "@jupyter-widgets/controls",
            "_model_module_version": "1.5.0",
            "_model_name": "ProgressStyleModel",
            "_view_count": null,
            "_view_module": "@jupyter-widgets/base",
            "_view_module_version": "1.2.0",
            "_view_name": "StyleView",
            "bar_color": null,
            "description_width": ""
          }
        },
        "83b57b28598246c3a62d412c48119b32": {
          "model_module": "@jupyter-widgets/base",
          "model_name": "LayoutModel",
          "model_module_version": "1.2.0",
          "state": {
            "_model_module": "@jupyter-widgets/base",
            "_model_module_version": "1.2.0",
            "_model_name": "LayoutModel",
            "_view_count": null,
            "_view_module": "@jupyter-widgets/base",
            "_view_module_version": "1.2.0",
            "_view_name": "LayoutView",
            "align_content": null,
            "align_items": null,
            "align_self": null,
            "border": null,
            "bottom": null,
            "display": null,
            "flex": null,
            "flex_flow": null,
            "grid_area": null,
            "grid_auto_columns": null,
            "grid_auto_flow": null,
            "grid_auto_rows": null,
            "grid_column": null,
            "grid_gap": null,
            "grid_row": null,
            "grid_template_areas": null,
            "grid_template_columns": null,
            "grid_template_rows": null,
            "height": null,
            "justify_content": null,
            "justify_items": null,
            "left": null,
            "margin": null,
            "max_height": null,
            "max_width": null,
            "min_height": null,
            "min_width": null,
            "object_fit": null,
            "object_position": null,
            "order": null,
            "overflow": null,
            "overflow_x": null,
            "overflow_y": null,
            "padding": null,
            "right": null,
            "top": null,
            "visibility": null,
            "width": null
          }
        },
        "8a31977be2bf43ad85d3e2044eec368b": {
          "model_module": "@jupyter-widgets/controls",
          "model_name": "DescriptionStyleModel",
          "model_module_version": "1.5.0",
          "state": {
            "_model_module": "@jupyter-widgets/controls",
            "_model_module_version": "1.5.0",
            "_model_name": "DescriptionStyleModel",
            "_view_count": null,
            "_view_module": "@jupyter-widgets/base",
            "_view_module_version": "1.2.0",
            "_view_name": "StyleView",
            "description_width": ""
          }
        },
        "241b6db2f6d9439ea67b33b405a04136": {
          "model_module": "@jupyter-widgets/controls",
          "model_name": "HBoxModel",
          "model_module_version": "1.5.0",
          "state": {
            "_dom_classes": [],
            "_model_module": "@jupyter-widgets/controls",
            "_model_module_version": "1.5.0",
            "_model_name": "HBoxModel",
            "_view_count": null,
            "_view_module": "@jupyter-widgets/controls",
            "_view_module_version": "1.5.0",
            "_view_name": "HBoxView",
            "box_style": "",
            "children": [
              "IPY_MODEL_d5496374c7df4bb3a92ce4ee70392d3c",
              "IPY_MODEL_01489d4ac31049d19ffdcb928c253992",
              "IPY_MODEL_c1fad5ed6e594e87981275c7947a81b4"
            ],
            "layout": "IPY_MODEL_e7195419141a4d9ea6480fe81b464a70"
          }
        },
        "d5496374c7df4bb3a92ce4ee70392d3c": {
          "model_module": "@jupyter-widgets/controls",
          "model_name": "HTMLModel",
          "model_module_version": "1.5.0",
          "state": {
            "_dom_classes": [],
            "_model_module": "@jupyter-widgets/controls",
            "_model_module_version": "1.5.0",
            "_model_name": "HTMLModel",
            "_view_count": null,
            "_view_module": "@jupyter-widgets/controls",
            "_view_module_version": "1.5.0",
            "_view_name": "HTMLView",
            "description": "",
            "description_tooltip": null,
            "layout": "IPY_MODEL_4ec640942015455da86739bb21d710a4",
            "placeholder": "​",
            "style": "IPY_MODEL_6f2b578a44a84f8c8c140ed08109afb0",
            "value": "Map: 100%"
          }
        },
        "01489d4ac31049d19ffdcb928c253992": {
          "model_module": "@jupyter-widgets/controls",
          "model_name": "FloatProgressModel",
          "model_module_version": "1.5.0",
          "state": {
            "_dom_classes": [],
            "_model_module": "@jupyter-widgets/controls",
            "_model_module_version": "1.5.0",
            "_model_name": "FloatProgressModel",
            "_view_count": null,
            "_view_module": "@jupyter-widgets/controls",
            "_view_module_version": "1.5.0",
            "_view_name": "ProgressView",
            "bar_style": "",
            "description": "",
            "description_tooltip": null,
            "layout": "IPY_MODEL_7f05501592884518960b28d2af958674",
            "max": 2348,
            "min": 0,
            "orientation": "horizontal",
            "style": "IPY_MODEL_727fa95dbf504dd9b941be7ab48e22eb",
            "value": 2348
          }
        },
        "c1fad5ed6e594e87981275c7947a81b4": {
          "model_module": "@jupyter-widgets/controls",
          "model_name": "HTMLModel",
          "model_module_version": "1.5.0",
          "state": {
            "_dom_classes": [],
            "_model_module": "@jupyter-widgets/controls",
            "_model_module_version": "1.5.0",
            "_model_name": "HTMLModel",
            "_view_count": null,
            "_view_module": "@jupyter-widgets/controls",
            "_view_module_version": "1.5.0",
            "_view_name": "HTMLView",
            "description": "",
            "description_tooltip": null,
            "layout": "IPY_MODEL_99716e71454d460e892b3aca92cd0894",
            "placeholder": "​",
            "style": "IPY_MODEL_b29caca8e71d4a3e8414bf33b9ba1774",
            "value": " 2342/2348 [00:10&lt;00:00, 273.31 examples/s]"
          }
        },
        "e7195419141a4d9ea6480fe81b464a70": {
          "model_module": "@jupyter-widgets/base",
          "model_name": "LayoutModel",
          "model_module_version": "1.2.0",
          "state": {
            "_model_module": "@jupyter-widgets/base",
            "_model_module_version": "1.2.0",
            "_model_name": "LayoutModel",
            "_view_count": null,
            "_view_module": "@jupyter-widgets/base",
            "_view_module_version": "1.2.0",
            "_view_name": "LayoutView",
            "align_content": null,
            "align_items": null,
            "align_self": null,
            "border": null,
            "bottom": null,
            "display": null,
            "flex": null,
            "flex_flow": null,
            "grid_area": null,
            "grid_auto_columns": null,
            "grid_auto_flow": null,
            "grid_auto_rows": null,
            "grid_column": null,
            "grid_gap": null,
            "grid_row": null,
            "grid_template_areas": null,
            "grid_template_columns": null,
            "grid_template_rows": null,
            "height": null,
            "justify_content": null,
            "justify_items": null,
            "left": null,
            "margin": null,
            "max_height": null,
            "max_width": null,
            "min_height": null,
            "min_width": null,
            "object_fit": null,
            "object_position": null,
            "order": null,
            "overflow": null,
            "overflow_x": null,
            "overflow_y": null,
            "padding": null,
            "right": null,
            "top": null,
            "visibility": "hidden",
            "width": null
          }
        },
        "4ec640942015455da86739bb21d710a4": {
          "model_module": "@jupyter-widgets/base",
          "model_name": "LayoutModel",
          "model_module_version": "1.2.0",
          "state": {
            "_model_module": "@jupyter-widgets/base",
            "_model_module_version": "1.2.0",
            "_model_name": "LayoutModel",
            "_view_count": null,
            "_view_module": "@jupyter-widgets/base",
            "_view_module_version": "1.2.0",
            "_view_name": "LayoutView",
            "align_content": null,
            "align_items": null,
            "align_self": null,
            "border": null,
            "bottom": null,
            "display": null,
            "flex": null,
            "flex_flow": null,
            "grid_area": null,
            "grid_auto_columns": null,
            "grid_auto_flow": null,
            "grid_auto_rows": null,
            "grid_column": null,
            "grid_gap": null,
            "grid_row": null,
            "grid_template_areas": null,
            "grid_template_columns": null,
            "grid_template_rows": null,
            "height": null,
            "justify_content": null,
            "justify_items": null,
            "left": null,
            "margin": null,
            "max_height": null,
            "max_width": null,
            "min_height": null,
            "min_width": null,
            "object_fit": null,
            "object_position": null,
            "order": null,
            "overflow": null,
            "overflow_x": null,
            "overflow_y": null,
            "padding": null,
            "right": null,
            "top": null,
            "visibility": null,
            "width": null
          }
        },
        "6f2b578a44a84f8c8c140ed08109afb0": {
          "model_module": "@jupyter-widgets/controls",
          "model_name": "DescriptionStyleModel",
          "model_module_version": "1.5.0",
          "state": {
            "_model_module": "@jupyter-widgets/controls",
            "_model_module_version": "1.5.0",
            "_model_name": "DescriptionStyleModel",
            "_view_count": null,
            "_view_module": "@jupyter-widgets/base",
            "_view_module_version": "1.2.0",
            "_view_name": "StyleView",
            "description_width": ""
          }
        },
        "7f05501592884518960b28d2af958674": {
          "model_module": "@jupyter-widgets/base",
          "model_name": "LayoutModel",
          "model_module_version": "1.2.0",
          "state": {
            "_model_module": "@jupyter-widgets/base",
            "_model_module_version": "1.2.0",
            "_model_name": "LayoutModel",
            "_view_count": null,
            "_view_module": "@jupyter-widgets/base",
            "_view_module_version": "1.2.0",
            "_view_name": "LayoutView",
            "align_content": null,
            "align_items": null,
            "align_self": null,
            "border": null,
            "bottom": null,
            "display": null,
            "flex": null,
            "flex_flow": null,
            "grid_area": null,
            "grid_auto_columns": null,
            "grid_auto_flow": null,
            "grid_auto_rows": null,
            "grid_column": null,
            "grid_gap": null,
            "grid_row": null,
            "grid_template_areas": null,
            "grid_template_columns": null,
            "grid_template_rows": null,
            "height": null,
            "justify_content": null,
            "justify_items": null,
            "left": null,
            "margin": null,
            "max_height": null,
            "max_width": null,
            "min_height": null,
            "min_width": null,
            "object_fit": null,
            "object_position": null,
            "order": null,
            "overflow": null,
            "overflow_x": null,
            "overflow_y": null,
            "padding": null,
            "right": null,
            "top": null,
            "visibility": null,
            "width": null
          }
        },
        "727fa95dbf504dd9b941be7ab48e22eb": {
          "model_module": "@jupyter-widgets/controls",
          "model_name": "ProgressStyleModel",
          "model_module_version": "1.5.0",
          "state": {
            "_model_module": "@jupyter-widgets/controls",
            "_model_module_version": "1.5.0",
            "_model_name": "ProgressStyleModel",
            "_view_count": null,
            "_view_module": "@jupyter-widgets/base",
            "_view_module_version": "1.2.0",
            "_view_name": "StyleView",
            "bar_color": null,
            "description_width": ""
          }
        },
        "99716e71454d460e892b3aca92cd0894": {
          "model_module": "@jupyter-widgets/base",
          "model_name": "LayoutModel",
          "model_module_version": "1.2.0",
          "state": {
            "_model_module": "@jupyter-widgets/base",
            "_model_module_version": "1.2.0",
            "_model_name": "LayoutModel",
            "_view_count": null,
            "_view_module": "@jupyter-widgets/base",
            "_view_module_version": "1.2.0",
            "_view_name": "LayoutView",
            "align_content": null,
            "align_items": null,
            "align_self": null,
            "border": null,
            "bottom": null,
            "display": null,
            "flex": null,
            "flex_flow": null,
            "grid_area": null,
            "grid_auto_columns": null,
            "grid_auto_flow": null,
            "grid_auto_rows": null,
            "grid_column": null,
            "grid_gap": null,
            "grid_row": null,
            "grid_template_areas": null,
            "grid_template_columns": null,
            "grid_template_rows": null,
            "height": null,
            "justify_content": null,
            "justify_items": null,
            "left": null,
            "margin": null,
            "max_height": null,
            "max_width": null,
            "min_height": null,
            "min_width": null,
            "object_fit": null,
            "object_position": null,
            "order": null,
            "overflow": null,
            "overflow_x": null,
            "overflow_y": null,
            "padding": null,
            "right": null,
            "top": null,
            "visibility": null,
            "width": null
          }
        },
        "b29caca8e71d4a3e8414bf33b9ba1774": {
          "model_module": "@jupyter-widgets/controls",
          "model_name": "DescriptionStyleModel",
          "model_module_version": "1.5.0",
          "state": {
            "_model_module": "@jupyter-widgets/controls",
            "_model_module_version": "1.5.0",
            "_model_name": "DescriptionStyleModel",
            "_view_count": null,
            "_view_module": "@jupyter-widgets/base",
            "_view_module_version": "1.2.0",
            "_view_name": "StyleView",
            "description_width": ""
          }
        }
      }
    }
  },
  "nbformat": 4,
  "nbformat_minor": 0
}