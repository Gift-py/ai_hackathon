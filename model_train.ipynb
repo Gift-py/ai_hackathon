{
  "cells": [
    {
      "cell_type": "code",
      "execution_count": null,
      "metadata": {
        "colab": {
          "base_uri": "https://localhost:8080/"
        },
        "id": "cYcC8DtOeJ9U",
        "outputId": "cc7fab9e-e2bb-4191-f9ca-5e902bf67f2b"
      },
      "outputs": [],
      "source": [
        "!git clone -b MLOps https://github.com/Gift-py/ai_hackathon/\n"
      ]
    },
    {
      "cell_type": "code",
      "execution_count": null,
      "metadata": {
        "colab": {
          "base_uri": "https://localhost:8080/"
        },
        "id": "EXNj-sxCezG7",
        "outputId": "508a1dd0-ec84-4eb9-d7e2-89469bd10ac8"
      },
      "outputs": [],
      "source": [
        "%cd ai_hackathon/"
      ]
    },
    {
      "cell_type": "code",
      "execution_count": 64,
      "metadata": {
        "id": "0TixHcQMeDjY"
      },
      "outputs": [],
      "source": [
        "import os\n",
        "import pandas as pd\n"
      ]
    },
    {
      "cell_type": "code",
      "execution_count": 65,
      "metadata": {
        "id": "Oad2iK0NeDjb"
      },
      "outputs": [],
      "source": [
        "qaps = pd.read_csv('./qaps_html.csv')\n",
        "id_url = pd.read_csv('./id_url_html.csv')"
      ]
    },
    {
      "cell_type": "code",
      "execution_count": null,
      "metadata": {
        "colab": {
          "base_uri": "https://localhost:8080/"
        },
        "id": "J5sauyZ3eDjc",
        "outputId": "e978925a-e51c-46d5-a7b0-9dbdad718ba0"
      },
      "outputs": [],
      "source": [
        "id_url.iloc[:,3].max()\n"
      ]
    },
    {
      "cell_type": "code",
      "execution_count": 67,
      "metadata": {
        "id": "uV0v2-kyeDjd"
      },
      "outputs": [],
      "source": [
        "summaries = pd.read_csv('./summaries_html.csv')\n"
      ]
    },
    {
      "cell_type": "code",
      "execution_count": null,
      "metadata": {
        "colab": {
          "base_uri": "https://localhost:8080/"
        },
        "id": "INlWC7OkfTLk",
        "outputId": "c5e75f43-7219-49ba-d43b-8578c1e36c82"
      },
      "outputs": [],
      "source": [
        "!pip install datasets"
      ]
    },
    {
      "cell_type": "code",
      "execution_count": null,
      "metadata": {
        "id": "qJ5rx5B8eDje"
      },
      "outputs": [],
      "source": [
        "from datasets import Dataset, DatasetDict\n",
        "import os\n",
        "import json\n",
        "import csv\n",
        "import pandas as pd\n",
        "\n",
        "qa_dataset = []\n",
        "for index, row in qaps.iterrows():\n",
        "    context = summaries[summaries['document_id'] == row['document_id']]['summary'].values[0]\n",
        "    question = row['question']\n",
        "    answer = [row['answer1'], row['answer2']]\n",
        "    qa_dataset.append(\n",
        "        {\n",
        "            'context': context,\n",
        "            'question': question,\n",
        "            'answer': answer\n",
        "        }\n",
        "    )"
      ]
    },
    {
      "cell_type": "code",
      "execution_count": null,
      "metadata": {
        "id": "ivHvy8SyeDje"
      },
      "outputs": [],
      "source": [
        "qa_dataset[1]"
      ]
    },
    {
      "cell_type": "code",
      "execution_count": null,
      "metadata": {
        "id": "T30WQjm_eDjf"
      },
      "outputs": [],
      "source": [
        "train_ratio = 0.8\n",
        "val_ratio = 0.1\n",
        "test_ratio = 0.1\n",
        "\n",
        "n_samples = len(qa_dataset)\n",
        "train_end = int(train_ratio * n_samples)\n",
        "val_end = train_end + int(val_ratio * n_samples)\n",
        "train_data = Dataset.from_list(qa_dataset[:train_end])\n",
        "val_data = Dataset.from_list(qa_dataset[train_end:val_end])\n",
        "test_data = Dataset.from_list(qa_dataset[val_end:])\n"
      ]
    },
    {
      "cell_type": "code",
      "execution_count": null,
      "metadata": {
        "id": "rmYd2g_9eDjf"
      },
      "outputs": [],
      "source": [
        "data_dict = DatasetDict({\n",
        "    'train': train_data,\n",
        "    'validation': val_data,\n",
        "    'test': test_data\n",
        "})"
      ]
    },
    {
      "cell_type": "code",
      "execution_count": null,
      "metadata": {
        "id": "iqFaulttfmJc"
      },
      "outputs": [],
      "source": [
        "!pip install transformers sentencepiece\n"
      ]
    },
    {
      "cell_type": "code",
      "execution_count": null,
      "metadata": {
        "id": "cpGcTRxQeDjg"
      },
      "outputs": [],
      "source": [
        "from transformers import T5Tokenizer\n",
        "import torch\n",
        " \n",
        "\n",
        "tokenizer = T5Tokenizer.from_pretrained('t5-base')\n",
        "\n",
        "def tokenize_example(example):\n",
        "    context, question, answers = example['context'], example['question'], example['answer']   \n",
        "    input_str = f'context: {context} </s>'\n",
        "    answer = ' | '.join(answers)    \n",
        "    target_str = f'question: {question} answer: {answer} </s>'\n",
        "    inputs = tokenizer(input_str, padding='max_length', truncation=True, max_length=512, return_tensors='pt')\n",
        "    target = tokenizer(target_str, padding='max_length', truncation=True, max_length=512, return_tensors='pt')\n",
        "\n",
        "    input_ids = torch.tensor(inputs['input_ids'][0])\n",
        "    attention_mask = torch.tensor(inputs['attention_mask'][0])\n",
        "    target_input_ids = torch.tensor(target['input_ids'][0])\n",
        "    target_attention_mask = torch.tensor(target['attention_mask'][0])\n",
        "    \n",
        "    return {'input_ids': input_ids, 'attention_mask':attention_mask, 'decoder_input_ids':target_input_ids, 'decoder_attention_mask':target_attention_mask}\n",
        "\n",
        "\n",
        "\n",
        "# def tokenized_to_tensor(tokenized_data):\n",
        "#     input_ids = torch.tensor(tokenized_data['input_ids'])\n",
        "#     attention_mask = torch.tensor(tokenized_data['attention_mask'])\n",
        "#     decoder_input_ids = torch.tensor(tokenized_data['target_input_ids'])\n",
        "#     decoder_attention_mask = torch.tensor(tokenized_data['target_attention_mask'])\n",
        "\n",
        "#     dataset = TensorDataset(input_ids, attention_mask, decoder_input_ids, decoder_attention_mask)\n",
        "\n",
        "#     return dataset"
      ]
    },
    {
      "cell_type": "code",
      "execution_count": null,
      "metadata": {
        "id": "Lc44FU80eDjg"
      },
      "outputs": [],
      "source": [
        "tokenized_dataset = data_dict.map(tokenize_example)\n",
        "tokenized_dataset.set_format(type='torch', columns=['input_ids', 'attention_mask', 'decoder_input_ids', 'decoder_attention_mask'])"
      ]
    },
    {
      "cell_type": "code",
      "execution_count": null,
      "metadata": {
        "id": "eRxkPMNGvv9V"
      },
      "outputs": [],
      "source": [
        "len(tokenized_dataset['train'][0]['input_ids'])"
      ]
    },
    {
      "cell_type": "code",
      "execution_count": null,
      "metadata": {
        "id": "DkefcyXvKOuk"
      },
      "outputs": [],
      "source": [
        "def collate_fn(data):\n",
        "    input_ids = []\n",
        "    attention_mask = []\n",
        "    target_ids = []\n",
        "    target_attention_mask = []\n",
        "\n",
        "    for item in data:\n",
        "        input_ids.append(item[\"input_ids\"])\n",
        "        attention_mask.append(item[\"attention_mask\"])\n",
        "        target_ids.append(item[\"decoder_input_ids\"])\n",
        "        target_attention_mask.append(item[\"decoder_attention_mask\"])\n",
        "\n",
        "\n",
        "    return {\n",
        "        \"input_ids\": torch.stack(input_ids),\n",
        "        \"attention_mask\": torch.stack(attention_mask),\n",
        "        \"decoder_input_ids\": torch.stack(target_ids),\n",
        "        \"decoder_attention_mask\": torch.stack(target_attention_mask),\n",
        "    }"
      ]
    },
    {
      "cell_type": "code",
      "execution_count": null,
      "metadata": {
        "id": "3mg9OlK4NNxs"
      },
      "outputs": [],
      "source": [
        "from torch.utils.data import DataLoader, Dataset\n",
        "\n",
        "batch_size = 8\n",
        "\n",
        "class CustomDataset(Dataset):\n",
        "    def __init__(self, dataloader):\n",
        "        self.dataloader = dataloader\n",
        "\n",
        "    def __len__(self):\n",
        "        return len(self.dataloader)\n",
        "\n",
        "    def __getitem__(self, index):\n",
        "        data = next(iter(self.dataloader))\n",
        "        return data['input_ids'], data['attention_mask'], data['decoder_input_ids'], data['decoder_attention_mask']\n",
        "\n",
        "train_dataloader = DataLoader(tokenized_dataset[\"train\"], batch_size=batch_size, num_workers=4, pin_memory=True, shuffle=True, collate_fn=collate_fn)\n",
        "val_dataloader = DataLoader(tokenized_dataset[\"validation\"], batch_size=batch_size, collate_fn=collate_fn)\n",
        "\n",
        "\n",
        "train_dataset = CustomDataset(train_dataloader)\n",
        "val_dataset = CustomDataset(val_dataloader)\n"
      ]
    },
    {
      "cell_type": "code",
      "execution_count": null,
      "metadata": {
        "id": "sLKjJfFN4FWt"
      },
      "outputs": [],
      "source": [
        "len(train_dataset)"
      ]
    },
    {
      "cell_type": "code",
      "execution_count": null,
      "metadata": {
        "id": "D_xAfaAgzkfo"
      },
      "outputs": [],
      "source": [
        "from transformers import T5ForConditionalGeneration, Trainer, TrainingArguments\n",
        "\n",
        "#load the model\n",
        "model = T5ForConditionalGeneration.from_pretrained('t5-base')\n",
        "\n",
        "#def training args\n",
        "training_args = TrainingArguments(\n",
        "    output_dir = './results',\n",
        "    num_train_epochs = 3,\n",
        "    learning_rate = 2e-4,\n",
        "    per_device_train_batch_size = batch_size,\n",
        "    per_device_eval_batch_size = batch_size,\n",
        "    warmup_steps = 500,\n",
        "    weight_decay = 0.01,\n",
        "    logging_dir = './logs',\n",
        "    logging_steps = 50,\n",
        "    load_best_model_at_end = True,\n",
        "    metric_for_best_model = 'rouge1',\n",
        "    greater_is_better = 'True',\n",
        "    gradient_accumulation_steps = 4,\n",
        "    evaluation_strategy = 'epoch',\n",
        "    save_strategy = 'epoch',\n",
        "    save_total_limit = 10,\n",
        "    eval_steps = 10,\n",
        "    save_steps = 10,\n",
        ")\n",
        "\n",
        "\n"
      ]
    },
    {
      "cell_type": "code",
      "execution_count": null,
      "metadata": {
        "id": "nS-ND7Q8m3l-"
      },
      "outputs": [],
      "source": [
        "class CustomTrainer(Trainer):\n",
        "  def compute_loss(self, model, inputs, return_outputs=False):\n",
        "    labels = inputs['decoder_input_ids']\n",
        "    input_ids = inputs['input_ids']\n",
        "    attention_mask = inputs['attention_mask']\n",
        "    decoder_attention_mask = inputs['decoder_attention_mask']\n",
        "\n",
        "    outputs = model(\n",
        "        input_ids,\n",
        "        attention_mask = attention_mask,\n",
        "        decoder_input_ids = labels[:, :-1],\n",
        "        decoder_attention_mask = decoder_attention_mask[:, :-1],\n",
        "        use_cache=False\n",
        "    )\n",
        "\n",
        "    logits = outputs.logits\n",
        "    labels = labels[:, :-1]\n",
        "    loss_fn = torch.nn.CrossEntropyLoss()\n",
        "    loss = loss_fn(logits.reshape(-1, logits.shape[-1]), labels.reshape(-1))\n",
        "\n",
        "    inputs['decoder_input_ids'] = labels\n",
        "    inputs['labels'] = labels\n",
        "    inputs['logits'] = logits\n",
        "\n",
        "    return (loss, inputs) if return_outputs else loss"
      ]
    },
    {
      "cell_type": "code",
      "execution_count": null,
      "metadata": {
        "id": "uL_36p3BURI7"
      },
      "outputs": [],
      "source": [
        "def trainer_data_collator(batch):\n",
        "\n",
        "    # input_ids = [item[0] for item in batch]\n",
        "    # input_ids = torch.cat(input_ids, dim=0)\n",
        "    # input_ids = input_ids.reshape(len(batch), -1)\n",
        "    input_ids = batch[0][0]\n",
        "\n",
        "    # attention_mask = [item[1] for item in batch]\n",
        "    # attention_mask = torch.cat(attention_mask, dim=0)\n",
        "    # attention_mask = attention_mask.reshape(len(batch), -1)\n",
        "    attention_mask = batch[0][1]\n",
        "\n",
        "    # decoder_input_ids = [item[2] for item in batch]\n",
        "    # decoder_input_ids = torch.cat(decoder_input_ids, dim=0)\n",
        "    # decoder_input_ids = decoder_input_ids.reshape(len(batch), -1)\n",
        "    decoder_input_ids = batch[0][2]\n",
        "\n",
        "    # decoder_attention_mask = [item[3] for item in batch]\n",
        "    # decoder_attention_mask = torch.cat(decoder_attention_mask, dim=0)\n",
        "    # decoder_attention_mask = decoder_attention_mask.reshape(len(batch), -1)\n",
        "    decoder_attention_mask = batch[0][3]\n",
        "\n",
        "    return {\n",
        "        'input_ids': input_ids.long(),\n",
        "        'attention_mask': attention_mask.long(),\n",
        "        'decoder_input_ids': decoder_input_ids.long(),\n",
        "        'decoder_attention_mask': decoder_attention_mask.long(),\n",
        "    }\n",
        "    "
      ]
    },
    {
      "cell_type": "code",
      "execution_count": null,
      "metadata": {
        "id": "GH988bqNSjMC"
      },
      "outputs": [],
      "source": [
        "#define the trainer\n",
        "trainer = CustomTrainer(\n",
        "    model = model,\n",
        "    args = training_args,\n",
        "    train_dataset = train_dataset,\n",
        "    eval_dataset = val_dataset,\n",
        "    data_collator = trainer_data_collator,\n",
        ")\n"
      ]
    },
    {
      "cell_type": "code",
      "execution_count": null,
      "metadata": {
        "id": "SH8xjPzSsrSq"
      },
      "outputs": [],
      "source": [
        "for i in range(100):\n",
        "    import gc\n",
        "    gc.collect()\n",
        "    torch.cuda.empty_cache()"
      ]
    },
    {
      "cell_type": "code",
      "execution_count": null,
      "metadata": {
        "id": "Rlzj3lFp6zZO"
      },
      "outputs": [],
      "source": [
        "trainer.train()"
      ]
    },
    {
      "cell_type": "code",
      "execution_count": null,
      "metadata": {
        "id": "BX7H0bkfs5zv"
      },
      "outputs": [],
      "source": [
        "trainer.save_model(output_dir='./model')"
      ]
    },
    {
      "cell_type": "code",
      "execution_count": null,
      "metadata": {
        "id": "uA-5ydoKYUL3"
      },
      "outputs": [],
      "source": [
        "for i in range(100):\n",
        "    import gc\n",
        "    gc.collect()\n",
        "    torch.cuda.empty_cache()\n",
        "torch.cuda.memory_summary(device=None, abbreviated=False)"
      ]
    }
  ],
  "metadata": {
    "accelerator": "GPU",
    "colab": {
      "provenance": []
    },
    "gpuClass": "standard",
    "kernelspec": {
      "display_name": "base",
      "language": "python",
      "name": "python3"
    },
    "language_info": {
      "codemirror_mode": {
        "name": "ipython",
        "version": 3
      },
      "file_extension": ".py",
      "mimetype": "text/x-python",
      "name": "python",
      "nbconvert_exporter": "python",
      "pygments_lexer": "ipython3",
      "version": "3.9.13"
    },
    "orig_nbformat": 4
  },
  "nbformat": 4,
  "nbformat_minor": 0
}
